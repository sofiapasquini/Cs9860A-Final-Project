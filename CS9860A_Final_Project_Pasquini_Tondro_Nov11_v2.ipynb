{
 "cells": [
  {
   "cell_type": "code",
   "execution_count": 1,
   "id": "legislative-interpretation",
   "metadata": {},
   "outputs": [],
   "source": [
    "#start by importing relevant packages\n",
    "import numpy as np\n",
    "import pandas as pd\n",
    "from sklearn.preprocessing import StandardScaler\n",
    "import matplotlib.pyplot as plt\n",
    "from sklearn.model_selection import train_test_split, GridSearchCV\n",
    "from sklearn.metrics import mean_absolute_percentage_error"
   ]
  },
  {
   "cell_type": "code",
   "execution_count": 2,
   "id": "82412543",
   "metadata": {},
   "outputs": [],
   "source": [
    "#for a better contrast on figures with dark mode\n",
    "#import matplotlib.pyplot as plt\n",
    "#plt.style.use(['dark_background'])\n",
    "#import seaborn as sns\n",
    "#plt.style.use(\"dark_background\")"
   ]
  },
  {
   "cell_type": "code",
   "execution_count": 3,
   "id": "547b2f4f",
   "metadata": {},
   "outputs": [],
   "source": [
    "#start by importing relevant packages\n",
    "import numpy as np\n",
    "import pandas as pd\n",
    "from sklearn.preprocessing import StandardScaler\n",
    "import matplotlib.pyplot as plt\n",
    "from sklearn.model_selection import train_test_split, GridSearchCV\n",
    "#AT\n",
    "from sklearn.linear_model import LogisticRegression\n",
    "from sklearn.svm import SVC, LinearSVC\n",
    "from sklearn.ensemble import RandomForestClassifier\n",
    "from sklearn.ensemble import RandomForestRegressor\n",
    "from sklearn.neighbors import KNeighborsClassifier\n",
    "from sklearn.naive_bayes import GaussianNB\n",
    "from sklearn.linear_model import Perceptron\n",
    "from sklearn.linear_model import SGDClassifier\n",
    "from sklearn.tree import DecisionTreeClassifier"
   ]
  },
  {
   "cell_type": "markdown",
   "id": "coordinated-malta",
   "metadata": {},
   "source": [
    "# Frame the Problem"
   ]
  },
  {
   "cell_type": "markdown",
   "id": "neither-restaurant",
   "metadata": {},
   "source": [
    "## Clean the data "
   ]
  },
  {
   "cell_type": "code",
   "execution_count": 4,
   "id": "fossil-community",
   "metadata": {
    "scrolled": true
   },
   "outputs": [
    {
     "name": "stdout",
     "output_type": "stream",
     "text": [
      "(1460, 81)\n",
      "<class 'pandas.core.frame.DataFrame'>\n",
      "RangeIndex: 1460 entries, 0 to 1459\n",
      "Data columns (total 81 columns):\n",
      " #   Column         Non-Null Count  Dtype  \n",
      "---  ------         --------------  -----  \n",
      " 0   Id             1460 non-null   int64  \n",
      " 1   MSSubClass     1460 non-null   int64  \n",
      " 2   MSZoning       1460 non-null   object \n",
      " 3   LotFrontage    1201 non-null   float64\n",
      " 4   LotArea        1460 non-null   int64  \n",
      " 5   Street         1460 non-null   object \n",
      " 6   Alley          91 non-null     object \n",
      " 7   LotShape       1460 non-null   object \n",
      " 8   LandContour    1460 non-null   object \n",
      " 9   Utilities      1460 non-null   object \n",
      " 10  LotConfig      1460 non-null   object \n",
      " 11  LandSlope      1460 non-null   object \n",
      " 12  Neighborhood   1460 non-null   object \n",
      " 13  Condition1     1460 non-null   object \n",
      " 14  Condition2     1460 non-null   object \n",
      " 15  BldgType       1460 non-null   object \n",
      " 16  HouseStyle     1460 non-null   object \n",
      " 17  OverallQual    1460 non-null   int64  \n",
      " 18  OverallCond    1460 non-null   int64  \n",
      " 19  YearBuilt      1460 non-null   int64  \n",
      " 20  YearRemodAdd   1460 non-null   int64  \n",
      " 21  RoofStyle      1460 non-null   object \n",
      " 22  RoofMatl       1460 non-null   object \n",
      " 23  Exterior1st    1460 non-null   object \n",
      " 24  Exterior2nd    1460 non-null   object \n",
      " 25  MasVnrType     1452 non-null   object \n",
      " 26  MasVnrArea     1452 non-null   float64\n",
      " 27  ExterQual      1460 non-null   object \n",
      " 28  ExterCond      1460 non-null   object \n",
      " 29  Foundation     1460 non-null   object \n",
      " 30  BsmtQual       1423 non-null   object \n",
      " 31  BsmtCond       1423 non-null   object \n",
      " 32  BsmtExposure   1422 non-null   object \n",
      " 33  BsmtFinType1   1423 non-null   object \n",
      " 34  BsmtFinSF1     1460 non-null   int64  \n",
      " 35  BsmtFinType2   1422 non-null   object \n",
      " 36  BsmtFinSF2     1460 non-null   int64  \n",
      " 37  BsmtUnfSF      1460 non-null   int64  \n",
      " 38  TotalBsmtSF    1460 non-null   int64  \n",
      " 39  Heating        1460 non-null   object \n",
      " 40  HeatingQC      1460 non-null   object \n",
      " 41  CentralAir     1460 non-null   object \n",
      " 42  Electrical     1459 non-null   object \n",
      " 43  1stFlrSF       1460 non-null   int64  \n",
      " 44  2ndFlrSF       1460 non-null   int64  \n",
      " 45  LowQualFinSF   1460 non-null   int64  \n",
      " 46  GrLivArea      1460 non-null   int64  \n",
      " 47  BsmtFullBath   1460 non-null   int64  \n",
      " 48  BsmtHalfBath   1460 non-null   int64  \n",
      " 49  FullBath       1460 non-null   int64  \n",
      " 50  HalfBath       1460 non-null   int64  \n",
      " 51  BedroomAbvGr   1460 non-null   int64  \n",
      " 52  KitchenAbvGr   1460 non-null   int64  \n",
      " 53  KitchenQual    1460 non-null   object \n",
      " 54  TotRmsAbvGrd   1460 non-null   int64  \n",
      " 55  Functional     1460 non-null   object \n",
      " 56  Fireplaces     1460 non-null   int64  \n",
      " 57  FireplaceQu    770 non-null    object \n",
      " 58  GarageType     1379 non-null   object \n",
      " 59  GarageYrBlt    1379 non-null   float64\n",
      " 60  GarageFinish   1379 non-null   object \n",
      " 61  GarageCars     1460 non-null   int64  \n",
      " 62  GarageArea     1460 non-null   int64  \n",
      " 63  GarageQual     1379 non-null   object \n",
      " 64  GarageCond     1379 non-null   object \n",
      " 65  PavedDrive     1460 non-null   object \n",
      " 66  WoodDeckSF     1460 non-null   int64  \n",
      " 67  OpenPorchSF    1460 non-null   int64  \n",
      " 68  EnclosedPorch  1460 non-null   int64  \n",
      " 69  3SsnPorch      1460 non-null   int64  \n",
      " 70  ScreenPorch    1460 non-null   int64  \n",
      " 71  PoolArea       1460 non-null   int64  \n",
      " 72  PoolQC         7 non-null      object \n",
      " 73  Fence          281 non-null    object \n",
      " 74  MiscFeature    54 non-null     object \n",
      " 75  MiscVal        1460 non-null   int64  \n",
      " 76  MoSold         1460 non-null   int64  \n",
      " 77  YrSold         1460 non-null   int64  \n",
      " 78  SaleType       1460 non-null   object \n",
      " 79  SaleCondition  1460 non-null   object \n",
      " 80  SalePrice      1460 non-null   int64  \n",
      "dtypes: float64(3), int64(35), object(43)\n",
      "memory usage: 924.0+ KB\n"
     ]
    },
    {
     "data": {
      "text/plain": [
       "None"
      ]
     },
     "metadata": {},
     "output_type": "display_data"
    },
    {
     "data": {
      "text/html": [
       "<div>\n",
       "<style scoped>\n",
       "    .dataframe tbody tr th:only-of-type {\n",
       "        vertical-align: middle;\n",
       "    }\n",
       "\n",
       "    .dataframe tbody tr th {\n",
       "        vertical-align: top;\n",
       "    }\n",
       "\n",
       "    .dataframe thead th {\n",
       "        text-align: right;\n",
       "    }\n",
       "</style>\n",
       "<table border=\"1\" class=\"dataframe\">\n",
       "  <thead>\n",
       "    <tr style=\"text-align: right;\">\n",
       "      <th></th>\n",
       "      <th>Id</th>\n",
       "      <th>MSSubClass</th>\n",
       "      <th>MSZoning</th>\n",
       "      <th>LotFrontage</th>\n",
       "      <th>LotArea</th>\n",
       "      <th>Street</th>\n",
       "      <th>Alley</th>\n",
       "      <th>LotShape</th>\n",
       "      <th>LandContour</th>\n",
       "      <th>Utilities</th>\n",
       "      <th>...</th>\n",
       "      <th>PoolArea</th>\n",
       "      <th>PoolQC</th>\n",
       "      <th>Fence</th>\n",
       "      <th>MiscFeature</th>\n",
       "      <th>MiscVal</th>\n",
       "      <th>MoSold</th>\n",
       "      <th>YrSold</th>\n",
       "      <th>SaleType</th>\n",
       "      <th>SaleCondition</th>\n",
       "      <th>SalePrice</th>\n",
       "    </tr>\n",
       "  </thead>\n",
       "  <tbody>\n",
       "    <tr>\n",
       "      <th>0</th>\n",
       "      <td>1</td>\n",
       "      <td>60</td>\n",
       "      <td>RL</td>\n",
       "      <td>65.0</td>\n",
       "      <td>8450</td>\n",
       "      <td>Pave</td>\n",
       "      <td>NaN</td>\n",
       "      <td>Reg</td>\n",
       "      <td>Lvl</td>\n",
       "      <td>AllPub</td>\n",
       "      <td>...</td>\n",
       "      <td>0</td>\n",
       "      <td>NaN</td>\n",
       "      <td>NaN</td>\n",
       "      <td>NaN</td>\n",
       "      <td>0</td>\n",
       "      <td>2</td>\n",
       "      <td>2008</td>\n",
       "      <td>WD</td>\n",
       "      <td>Normal</td>\n",
       "      <td>208500</td>\n",
       "    </tr>\n",
       "    <tr>\n",
       "      <th>1</th>\n",
       "      <td>2</td>\n",
       "      <td>20</td>\n",
       "      <td>RL</td>\n",
       "      <td>80.0</td>\n",
       "      <td>9600</td>\n",
       "      <td>Pave</td>\n",
       "      <td>NaN</td>\n",
       "      <td>Reg</td>\n",
       "      <td>Lvl</td>\n",
       "      <td>AllPub</td>\n",
       "      <td>...</td>\n",
       "      <td>0</td>\n",
       "      <td>NaN</td>\n",
       "      <td>NaN</td>\n",
       "      <td>NaN</td>\n",
       "      <td>0</td>\n",
       "      <td>5</td>\n",
       "      <td>2007</td>\n",
       "      <td>WD</td>\n",
       "      <td>Normal</td>\n",
       "      <td>181500</td>\n",
       "    </tr>\n",
       "    <tr>\n",
       "      <th>2</th>\n",
       "      <td>3</td>\n",
       "      <td>60</td>\n",
       "      <td>RL</td>\n",
       "      <td>68.0</td>\n",
       "      <td>11250</td>\n",
       "      <td>Pave</td>\n",
       "      <td>NaN</td>\n",
       "      <td>IR1</td>\n",
       "      <td>Lvl</td>\n",
       "      <td>AllPub</td>\n",
       "      <td>...</td>\n",
       "      <td>0</td>\n",
       "      <td>NaN</td>\n",
       "      <td>NaN</td>\n",
       "      <td>NaN</td>\n",
       "      <td>0</td>\n",
       "      <td>9</td>\n",
       "      <td>2008</td>\n",
       "      <td>WD</td>\n",
       "      <td>Normal</td>\n",
       "      <td>223500</td>\n",
       "    </tr>\n",
       "    <tr>\n",
       "      <th>3</th>\n",
       "      <td>4</td>\n",
       "      <td>70</td>\n",
       "      <td>RL</td>\n",
       "      <td>60.0</td>\n",
       "      <td>9550</td>\n",
       "      <td>Pave</td>\n",
       "      <td>NaN</td>\n",
       "      <td>IR1</td>\n",
       "      <td>Lvl</td>\n",
       "      <td>AllPub</td>\n",
       "      <td>...</td>\n",
       "      <td>0</td>\n",
       "      <td>NaN</td>\n",
       "      <td>NaN</td>\n",
       "      <td>NaN</td>\n",
       "      <td>0</td>\n",
       "      <td>2</td>\n",
       "      <td>2006</td>\n",
       "      <td>WD</td>\n",
       "      <td>Abnorml</td>\n",
       "      <td>140000</td>\n",
       "    </tr>\n",
       "    <tr>\n",
       "      <th>4</th>\n",
       "      <td>5</td>\n",
       "      <td>60</td>\n",
       "      <td>RL</td>\n",
       "      <td>84.0</td>\n",
       "      <td>14260</td>\n",
       "      <td>Pave</td>\n",
       "      <td>NaN</td>\n",
       "      <td>IR1</td>\n",
       "      <td>Lvl</td>\n",
       "      <td>AllPub</td>\n",
       "      <td>...</td>\n",
       "      <td>0</td>\n",
       "      <td>NaN</td>\n",
       "      <td>NaN</td>\n",
       "      <td>NaN</td>\n",
       "      <td>0</td>\n",
       "      <td>12</td>\n",
       "      <td>2008</td>\n",
       "      <td>WD</td>\n",
       "      <td>Normal</td>\n",
       "      <td>250000</td>\n",
       "    </tr>\n",
       "  </tbody>\n",
       "</table>\n",
       "<p>5 rows × 81 columns</p>\n",
       "</div>"
      ],
      "text/plain": [
       "   Id  MSSubClass MSZoning  LotFrontage  LotArea Street Alley LotShape  \\\n",
       "0   1          60       RL         65.0     8450   Pave   NaN      Reg   \n",
       "1   2          20       RL         80.0     9600   Pave   NaN      Reg   \n",
       "2   3          60       RL         68.0    11250   Pave   NaN      IR1   \n",
       "3   4          70       RL         60.0     9550   Pave   NaN      IR1   \n",
       "4   5          60       RL         84.0    14260   Pave   NaN      IR1   \n",
       "\n",
       "  LandContour Utilities  ... PoolArea PoolQC Fence MiscFeature MiscVal MoSold  \\\n",
       "0         Lvl    AllPub  ...        0    NaN   NaN         NaN       0      2   \n",
       "1         Lvl    AllPub  ...        0    NaN   NaN         NaN       0      5   \n",
       "2         Lvl    AllPub  ...        0    NaN   NaN         NaN       0      9   \n",
       "3         Lvl    AllPub  ...        0    NaN   NaN         NaN       0      2   \n",
       "4         Lvl    AllPub  ...        0    NaN   NaN         NaN       0     12   \n",
       "\n",
       "  YrSold  SaleType  SaleCondition  SalePrice  \n",
       "0   2008        WD         Normal     208500  \n",
       "1   2007        WD         Normal     181500  \n",
       "2   2008        WD         Normal     223500  \n",
       "3   2006        WD        Abnorml     140000  \n",
       "4   2008        WD         Normal     250000  \n",
       "\n",
       "[5 rows x 81 columns]"
      ]
     },
     "metadata": {},
     "output_type": "display_data"
    }
   ],
   "source": [
    "#import the data and look at the info of the data set and preview the first five rows\n",
    "df_test=pd.read_csv(\"test.csv\")\n",
    "df_train=pd.read_csv(\"train.csv\")\n",
    "df_test_v2=pd.read_csv(\"test.csv\")\n",
    "combine = [df_train, df_test]\n",
    "\n",
    "print(df_train.shape)\n",
    "display(df_train.info())\n",
    "display(df_train.head())"
   ]
  },
  {
   "cell_type": "code",
   "execution_count": 5,
   "id": "drawn-dairy",
   "metadata": {
    "scrolled": true
   },
   "outputs": [
    {
     "data": {
      "text/plain": [
       "array([[<AxesSubplot:title={'center':'Id'}>,\n",
       "        <AxesSubplot:title={'center':'MSSubClass'}>,\n",
       "        <AxesSubplot:title={'center':'LotFrontage'}>,\n",
       "        <AxesSubplot:title={'center':'LotArea'}>,\n",
       "        <AxesSubplot:title={'center':'OverallQual'}>,\n",
       "        <AxesSubplot:title={'center':'OverallCond'}>],\n",
       "       [<AxesSubplot:title={'center':'YearBuilt'}>,\n",
       "        <AxesSubplot:title={'center':'YearRemodAdd'}>,\n",
       "        <AxesSubplot:title={'center':'MasVnrArea'}>,\n",
       "        <AxesSubplot:title={'center':'BsmtFinSF1'}>,\n",
       "        <AxesSubplot:title={'center':'BsmtFinSF2'}>,\n",
       "        <AxesSubplot:title={'center':'BsmtUnfSF'}>],\n",
       "       [<AxesSubplot:title={'center':'TotalBsmtSF'}>,\n",
       "        <AxesSubplot:title={'center':'1stFlrSF'}>,\n",
       "        <AxesSubplot:title={'center':'2ndFlrSF'}>,\n",
       "        <AxesSubplot:title={'center':'LowQualFinSF'}>,\n",
       "        <AxesSubplot:title={'center':'GrLivArea'}>,\n",
       "        <AxesSubplot:title={'center':'BsmtFullBath'}>],\n",
       "       [<AxesSubplot:title={'center':'BsmtHalfBath'}>,\n",
       "        <AxesSubplot:title={'center':'FullBath'}>,\n",
       "        <AxesSubplot:title={'center':'HalfBath'}>,\n",
       "        <AxesSubplot:title={'center':'BedroomAbvGr'}>,\n",
       "        <AxesSubplot:title={'center':'KitchenAbvGr'}>,\n",
       "        <AxesSubplot:title={'center':'TotRmsAbvGrd'}>],\n",
       "       [<AxesSubplot:title={'center':'Fireplaces'}>,\n",
       "        <AxesSubplot:title={'center':'GarageYrBlt'}>,\n",
       "        <AxesSubplot:title={'center':'GarageCars'}>,\n",
       "        <AxesSubplot:title={'center':'GarageArea'}>,\n",
       "        <AxesSubplot:title={'center':'WoodDeckSF'}>,\n",
       "        <AxesSubplot:title={'center':'OpenPorchSF'}>],\n",
       "       [<AxesSubplot:title={'center':'EnclosedPorch'}>,\n",
       "        <AxesSubplot:title={'center':'3SsnPorch'}>,\n",
       "        <AxesSubplot:title={'center':'ScreenPorch'}>,\n",
       "        <AxesSubplot:title={'center':'PoolArea'}>,\n",
       "        <AxesSubplot:title={'center':'MiscVal'}>,\n",
       "        <AxesSubplot:title={'center':'MoSold'}>],\n",
       "       [<AxesSubplot:title={'center':'YrSold'}>,\n",
       "        <AxesSubplot:title={'center':'SalePrice'}>, <AxesSubplot:>,\n",
       "        <AxesSubplot:>, <AxesSubplot:>, <AxesSubplot:>]], dtype=object)"
      ]
     },
     "execution_count": 5,
     "metadata": {},
     "output_type": "execute_result"
    },
    {
     "data": {
      "image/png": "[encoded data removed]",
      "text/plain": [
       "<Figure size 1440x1080 with 42 Axes>"
      ]
     },
     "metadata": {
      "needs_background": "light"
     },
     "output_type": "display_data"
    }
   ],
   "source": [
    "#quickly visualize the training data-histograms\n",
    "df_train.hist(bins=25, figsize=(20,15))"
   ]
  },
  {
   "cell_type": "markdown",
   "id": "dominican-projector",
   "metadata": {},
   "source": [
    "Notice:\n",
    "\n",
    "- YearBuilt and YearRemodAdd seem to be linearly-correlated (need we include both? come back to this)\n",
    "- Is it necessary to keep both 1stFlrSF and GrLivArea?- no just keep GrLivArea\n",
    "- Is it necessary to keep both BedroomAbvGr, KitchenAbvGr and TotRmsAbvGrd?- no just keep TotRmsAbvGrd\n",
    "- \" WoodDeckSF, OpenPorchSF, EnclosedPorchSF, 3SsnProch, adn ScreenPorch?- just keep the sum of the OpenPorchSF+EnclosedPorchSF\n",
    "- PoolArea all seems to have 0 as the only entry, is this true for test set too? If so therefore non-informative therefore delete feature- investigate more, keep in data set for now"
   ]
  },
  {
   "cell_type": "code",
   "execution_count": 6,
   "id": "productive-postcard",
   "metadata": {},
   "outputs": [],
   "source": [
    "#consider a scatter matrix here to investigate possible correlation between features"
   ]
  },
  {
   "cell_type": "markdown",
   "id": "embedded-purpose",
   "metadata": {},
   "source": [
    "Drop:\n",
    "\n",
    "-Alley: only 91/1460 non-null entries, not enough information to interpolate accurately.\n",
    "\n",
    "-MiscFeature: the value of the miscellaneous feature is what is important, not necessarily what the feature is; also isufficient non-null entries (54/1460)\n",
    "\n",
    "-PoolQC: insufficient non-null entries (7/1460)\n",
    "\n",
    "-PoolArea: insufficient positive instances (similar case to PoolQC)\n",
    "\n",
    "-Fence: insufficient non-null entries (281/1460)\n",
    "\n",
    "-Id: non-predictive\n",
    "\n",
    "-1stFlrSF, 2ndFlrSF : keeping GrLivArea as it contains information stored in these two variables.\n",
    "\n",
    "-LandContour- this and the attribute \"LandSlope\" contain similar information (keeping LandSlope as it is a better attribute for generalizing the information they hold)\n",
    "\n",
    "-OverallQual- the information in this attribute is correlated with the attribute \"OverallCond\"- we therefore will only keep the general OveralCond which is informed by OverallQual.\n",
    "\n",
    "-ExterQual- similar to the above attributes, this attribute informs another (ExterCond) and so we opt to drop this one and keep the other which is more general.\n",
    "\n",
    "-GarageQual- this attribute seems to hold the same information as GarageCond, and as such is redudant- drop\n",
    "\n",
    "-TotalBsmtSF- this contains information stored in BsmtFinSF1, BmstFinSF2, and BsmtUnfSF (see cells below for how we deal with these remaining attributes)\n",
    "\n",
    "-SaleType- do not beleive that this attribute is informative\n",
    "\n",
    "One-Hot Encode: \n",
    "\n",
    "-All categorical features"
   ]
  },
  {
   "cell_type": "code",
   "execution_count": 7,
   "id": "worth-jamaica",
   "metadata": {},
   "outputs": [],
   "source": [
    "#drop the non-predictive or redudant features\n",
    "# toBeDropped=[\"Alley\",\"MiscFeature\", \"Fence\",\"PoolQC\", \"Id\", \"PoolArea\", \"1stFlrSF\",\"2ndFlrSF\", \"BedroomAbvGr\",'KitchenAbvGr', \"WoodDeckSF\",\"ScreenPorch\", \"3SsnPorch\", \"LandContour\",\"OverallQual\", \"ExterQual\",\"GarageQual\", \"TotalBsmtSF\", \"SaleType\" ]\n",
    "#drop the non-predictive or redudant features\n",
    "toBeDropped=[\"Id\", \"PoolArea\", \"1stFlrSF\",\"2ndFlrSF\", \"BedroomAbvGr\",'KitchenAbvGr', \"WoodDeckSF\",\"ScreenPorch\", \"3SsnPorch\", \"LandContour\",\"OverallQual\", \"ExterQual\",\"GarageQual\", \"TotalBsmtSF\", \"SaleType\" ]\n",
    "new_dummies = [\"Alley\",\"MiscFeature\", \"Fence\",\"PoolQC\"] # these should be included in the variables which will \n",
    "# be used to replace the empty values with \"fillna\"\n"
   ]
  },
  {
   "cell_type": "markdown",
   "id": "paperback-update",
   "metadata": {},
   "source": [
    "Interesting Features:\n",
    "\n",
    "-Condition1, Condition2: these features describe whether or not the house is in close proximity to a miscellaneous feature such as a railroad; not all instances of this categorical variable are informative (whether or not the railroad is on the east/west side of the property, for example) therefore we want to change all instances of these attributes to be binary (0 if not close to one, 1 if close to one)\n",
    "\n",
    "-Going to sum up attribute values from BsmtFinSF1 and BsmtFinSF2 (and keep BsmtUnfSF the way it is) and create a new attribute in their place called BsmtFinSF\n"
   ]
  },
  {
   "cell_type": "code",
   "execution_count": 8,
   "id": "b85194ca",
   "metadata": {},
   "outputs": [
    {
     "name": "stdout",
     "output_type": "stream",
     "text": [
      "Before (1460, 81) (1459, 80) (1460, 81) (1459, 80)\n"
     ]
    },
    {
     "data": {
      "text/plain": [
       "('After', (1460, 66), (1459, 65), (1460, 66), (1459, 65))"
      ]
     },
     "execution_count": 8,
     "metadata": {},
     "output_type": "execute_result"
    }
   ],
   "source": [
    "# Here I would defined another dataset (combine) to clean the train and test sets both at once\n",
    "print(\"Before\", df_train.shape, df_test.shape, combine[0].shape, combine[1].shape)\n",
    "df_train = df_train.drop(toBeDropped, axis=1)\n",
    "df_test = df_test.drop(toBeDropped, axis=1)\n",
    "combine = [df_train, df_test]\n",
    "\"After\", df_train.shape, df_test.shape, combine[0].shape, combine[1].shape"
   ]
  },
  {
   "cell_type": "code",
   "execution_count": 9,
   "id": "national-comparative",
   "metadata": {},
   "outputs": [
    {
     "data": {
      "text/plain": [
       "((1460, 66), (1459, 65))"
      ]
     },
     "execution_count": 9,
     "metadata": {},
     "output_type": "execute_result"
    }
   ],
   "source": [
    "#change Condition1 and Condition2 to binary --- in both datasets\n",
    "for dataset in combine:\n",
    "    for i in dataset[\"Condition1\"]:\n",
    "        if i==\"Norm\":\n",
    "            dataset['Condition1'].replace(to_replace=\"Norm\", value=0, inplace=True)\n",
    "        else:\n",
    "            dataset[\"Condition1\"].replace(to_replace=['Artery', \"Feedr\",'RRNn',\"RRAn\",\"PosN\",\"PosA\",\"RRNe\",\"RRAe\"],value=1, inplace=True)\n",
    "for dataset in combine:\n",
    "    for i in dataset[\"Condition2\"]:\n",
    "        if i==\"Norm\":\n",
    "            dataset['Condition2'].replace(to_replace=\"Norm\", value=0, inplace=True)\n",
    "        else:\n",
    "            dataset[\"Condition2\"].replace(to_replace=['Artery', \"Feedr\",'RRNn',\"RRAn\",\"PosN\",\"PosA\",\"RRNe\",\"RRAe\"],value=1, inplace=True)\n",
    "combine[0].shape, combine[1].shape"
   ]
  },
  {
   "cell_type": "code",
   "execution_count": 10,
   "id": "owned-notification",
   "metadata": {},
   "outputs": [
    {
     "data": {
      "text/plain": [
       "0       0\n",
       "1       0\n",
       "2       0\n",
       "3       0\n",
       "4       0\n",
       "       ..\n",
       "1455    0\n",
       "1456    0\n",
       "1457    0\n",
       "1458    0\n",
       "1459    0\n",
       "Name: Condition2, Length: 1460, dtype: int64"
      ]
     },
     "metadata": {},
     "output_type": "display_data"
    }
   ],
   "source": [
    "display(df_train[\"Condition2\"])\n"
   ]
  },
  {
   "cell_type": "code",
   "execution_count": 11,
   "id": "d21fe381",
   "metadata": {},
   "outputs": [],
   "source": [
    "#since MasVnrArea, GarageYrBlt are numerical, replace null values with an appropriate value\n",
    "\n",
    "# MasVnrArea, GarageYrBlt null values should just be replaced with zeros (either there are no Masonry Veneers or there is no Garage)\n",
    "\n",
    "# df_train[\"MasVnrArea\"].fillna(value=df_train[\"MasVnrArea\"].median(), inplace=True)\n",
    "# df_train[\"GarageYrBlt\"].fillna(value=df_train[\"GarageYrBlt\"].median(), inplace=True)\n",
    "\n",
    "### THESE ARE THE ONES THAT STILL HAVE NAN VALUES IN THE TEST SET\n",
    "# ['BsmtFinSF1',\n",
    "#  'BsmtFinSF2',\n",
    "#  'BsmtUnfSF',\n",
    "#  'BsmtFullBath',\n",
    "#  'BsmtHalfBath',\n",
    "#  'GarageCars',\n",
    "#  'GarageArea',\n",
    "#  'BsmtFinSF']\n",
    "for dataset in combine:\n",
    "    dataset[\"MasVnrArea\"].fillna(0, inplace=True)\n",
    "    dataset[\"GarageYrBlt\"].fillna(0, inplace=True)\n",
    "    dataset[\"LotFrontage\"].fillna(0, inplace=True)\n",
    "    dataset[\"BsmtFinSF1\"].fillna(0,inplace=True)\n",
    "    dataset[\"BsmtFinSF2\"].fillna(0,inplace=True)\n",
    "    dataset[\"BsmtFullBath\"].fillna(0,inplace=True)\n",
    "    dataset[\"BsmtHalfBath\"].fillna(0,inplace=True)\n",
    "    dataset[\"GarageCars\"].fillna(0,inplace=True)\n",
    "    dataset[\"GarageArea\"].fillna(0,inplace=True)\n",
    " #   dataset[\"BsmtFinSF\"].fillna(0,inplace=True)"
   ]
  },
  {
   "cell_type": "code",
   "execution_count": 12,
   "id": "classical-horse",
   "metadata": {},
   "outputs": [],
   "source": [
    "# sum up values of BsmtFinSF1 and BsmtFinSF2 and store the sum for each instance in new attribute called BsmtFinSF\n",
    "for dataset in combine:\n",
    "    dataset[\"BsmtFinSF\"]=dataset[\"BsmtFinSF1\"]+dataset[\"BsmtFinSF2\"]\n",
    "    #now drop the other two columsn after performing the transformation\n",
    "    dataset=dataset.drop([\"BsmtFinSF1\",\"BsmtFinSF2\"], axis=1)\n",
    "    # display(df_train.head())"
   ]
  },
  {
   "cell_type": "code",
   "execution_count": 13,
   "id": "09b763af",
   "metadata": {},
   "outputs": [
    {
     "data": {
      "text/plain": [
       "((1460, 67), (1459, 66))"
      ]
     },
     "execution_count": 13,
     "metadata": {},
     "output_type": "execute_result"
    }
   ],
   "source": [
    "combine[0].shape, combine[1].shape"
   ]
  },
  {
   "cell_type": "markdown",
   "id": "horizontal-ceramic",
   "metadata": {},
   "source": [
    "The features with null values:\n",
    "\n",
    "MasVnrArea (8), BsmtQual (37), BsmtCond (37), BsmtExposure (38), BsmtFinType1 (37), BsmtFinType2 (38), Electrical (1), FireplaceQu (770), GarageType (91), GarageYrBuilt (91), GarageFinish (91), GarageQual (91), GarageCond (91)\n",
    "\n",
    "-either delete the instances with null entries or replace with reasonable values\n",
    "( numerical values can be interpolated using median statistic, is it reasonable to use the \"top\" entry for filling in null instances in null-data?)\n",
    "\n",
    "\n"
   ]
  },
  {
   "cell_type": "code",
   "execution_count": 14,
   "id": "hydraulic-emergency",
   "metadata": {},
   "outputs": [],
   "source": [
    "# #since MasVnrArea, GarageYrBlt are numerical, replace null values with an appropriate value\n",
    "\n",
    "# # MasVnrArea, GarageYrBlt null values should just be replaced with zeros (either there are no Masonry Veneers or there is no Garage)\n",
    "\n",
    "# # df_train[\"MasVnrArea\"].fillna(value=df_train[\"MasVnrArea\"].median(), inplace=True)\n",
    "# # df_train[\"GarageYrBlt\"].fillna(value=df_train[\"GarageYrBlt\"].median(), inplace=True)\n",
    "# for dataset in combine:\n",
    "#     dataset[\"MasVnrArea\"].fillna(0, inplace=True)\n",
    "#     dataset[\"GarageYrBlt\"].fillna(0, inplace=True)\n",
    "#     dataset[\"LotFrontage\"].fillna(0,inplace=True)\n"
   ]
  },
  {
   "cell_type": "code",
   "execution_count": 15,
   "id": "af2ba096",
   "metadata": {},
   "outputs": [
    {
     "data": {
      "text/html": [
       "<div>\n",
       "<style scoped>\n",
       "    .dataframe tbody tr th:only-of-type {\n",
       "        vertical-align: middle;\n",
       "    }\n",
       "\n",
       "    .dataframe tbody tr th {\n",
       "        vertical-align: top;\n",
       "    }\n",
       "\n",
       "    .dataframe thead th {\n",
       "        text-align: right;\n",
       "    }\n",
       "</style>\n",
       "<table border=\"1\" class=\"dataframe\">\n",
       "  <thead>\n",
       "    <tr style=\"text-align: right;\">\n",
       "      <th></th>\n",
       "      <th>MSSubClass</th>\n",
       "      <th>MSZoning</th>\n",
       "      <th>LotFrontage</th>\n",
       "      <th>LotArea</th>\n",
       "      <th>Street</th>\n",
       "      <th>Alley</th>\n",
       "      <th>LotShape</th>\n",
       "      <th>Utilities</th>\n",
       "      <th>LotConfig</th>\n",
       "      <th>LandSlope</th>\n",
       "      <th>...</th>\n",
       "      <th>EnclosedPorch</th>\n",
       "      <th>PoolQC</th>\n",
       "      <th>Fence</th>\n",
       "      <th>MiscFeature</th>\n",
       "      <th>MiscVal</th>\n",
       "      <th>MoSold</th>\n",
       "      <th>YrSold</th>\n",
       "      <th>SaleCondition</th>\n",
       "      <th>SalePrice</th>\n",
       "      <th>BsmtFinSF</th>\n",
       "    </tr>\n",
       "  </thead>\n",
       "  <tbody>\n",
       "    <tr>\n",
       "      <th>0</th>\n",
       "      <td>60</td>\n",
       "      <td>RL</td>\n",
       "      <td>65.0</td>\n",
       "      <td>8450</td>\n",
       "      <td>Pave</td>\n",
       "      <td>NaN</td>\n",
       "      <td>Reg</td>\n",
       "      <td>AllPub</td>\n",
       "      <td>Inside</td>\n",
       "      <td>Gtl</td>\n",
       "      <td>...</td>\n",
       "      <td>0</td>\n",
       "      <td>NaN</td>\n",
       "      <td>NaN</td>\n",
       "      <td>NaN</td>\n",
       "      <td>0</td>\n",
       "      <td>2</td>\n",
       "      <td>2008</td>\n",
       "      <td>Normal</td>\n",
       "      <td>208500</td>\n",
       "      <td>706</td>\n",
       "    </tr>\n",
       "    <tr>\n",
       "      <th>1</th>\n",
       "      <td>20</td>\n",
       "      <td>RL</td>\n",
       "      <td>80.0</td>\n",
       "      <td>9600</td>\n",
       "      <td>Pave</td>\n",
       "      <td>NaN</td>\n",
       "      <td>Reg</td>\n",
       "      <td>AllPub</td>\n",
       "      <td>FR2</td>\n",
       "      <td>Gtl</td>\n",
       "      <td>...</td>\n",
       "      <td>0</td>\n",
       "      <td>NaN</td>\n",
       "      <td>NaN</td>\n",
       "      <td>NaN</td>\n",
       "      <td>0</td>\n",
       "      <td>5</td>\n",
       "      <td>2007</td>\n",
       "      <td>Normal</td>\n",
       "      <td>181500</td>\n",
       "      <td>978</td>\n",
       "    </tr>\n",
       "    <tr>\n",
       "      <th>2</th>\n",
       "      <td>60</td>\n",
       "      <td>RL</td>\n",
       "      <td>68.0</td>\n",
       "      <td>11250</td>\n",
       "      <td>Pave</td>\n",
       "      <td>NaN</td>\n",
       "      <td>IR1</td>\n",
       "      <td>AllPub</td>\n",
       "      <td>Inside</td>\n",
       "      <td>Gtl</td>\n",
       "      <td>...</td>\n",
       "      <td>0</td>\n",
       "      <td>NaN</td>\n",
       "      <td>NaN</td>\n",
       "      <td>NaN</td>\n",
       "      <td>0</td>\n",
       "      <td>9</td>\n",
       "      <td>2008</td>\n",
       "      <td>Normal</td>\n",
       "      <td>223500</td>\n",
       "      <td>486</td>\n",
       "    </tr>\n",
       "    <tr>\n",
       "      <th>3</th>\n",
       "      <td>70</td>\n",
       "      <td>RL</td>\n",
       "      <td>60.0</td>\n",
       "      <td>9550</td>\n",
       "      <td>Pave</td>\n",
       "      <td>NaN</td>\n",
       "      <td>IR1</td>\n",
       "      <td>AllPub</td>\n",
       "      <td>Corner</td>\n",
       "      <td>Gtl</td>\n",
       "      <td>...</td>\n",
       "      <td>272</td>\n",
       "      <td>NaN</td>\n",
       "      <td>NaN</td>\n",
       "      <td>NaN</td>\n",
       "      <td>0</td>\n",
       "      <td>2</td>\n",
       "      <td>2006</td>\n",
       "      <td>Abnorml</td>\n",
       "      <td>140000</td>\n",
       "      <td>216</td>\n",
       "    </tr>\n",
       "    <tr>\n",
       "      <th>4</th>\n",
       "      <td>60</td>\n",
       "      <td>RL</td>\n",
       "      <td>84.0</td>\n",
       "      <td>14260</td>\n",
       "      <td>Pave</td>\n",
       "      <td>NaN</td>\n",
       "      <td>IR1</td>\n",
       "      <td>AllPub</td>\n",
       "      <td>FR2</td>\n",
       "      <td>Gtl</td>\n",
       "      <td>...</td>\n",
       "      <td>0</td>\n",
       "      <td>NaN</td>\n",
       "      <td>NaN</td>\n",
       "      <td>NaN</td>\n",
       "      <td>0</td>\n",
       "      <td>12</td>\n",
       "      <td>2008</td>\n",
       "      <td>Normal</td>\n",
       "      <td>250000</td>\n",
       "      <td>655</td>\n",
       "    </tr>\n",
       "    <tr>\n",
       "      <th>...</th>\n",
       "      <td>...</td>\n",
       "      <td>...</td>\n",
       "      <td>...</td>\n",
       "      <td>...</td>\n",
       "      <td>...</td>\n",
       "      <td>...</td>\n",
       "      <td>...</td>\n",
       "      <td>...</td>\n",
       "      <td>...</td>\n",
       "      <td>...</td>\n",
       "      <td>...</td>\n",
       "      <td>...</td>\n",
       "      <td>...</td>\n",
       "      <td>...</td>\n",
       "      <td>...</td>\n",
       "      <td>...</td>\n",
       "      <td>...</td>\n",
       "      <td>...</td>\n",
       "      <td>...</td>\n",
       "      <td>...</td>\n",
       "      <td>...</td>\n",
       "    </tr>\n",
       "    <tr>\n",
       "      <th>1455</th>\n",
       "      <td>60</td>\n",
       "      <td>RL</td>\n",
       "      <td>62.0</td>\n",
       "      <td>7917</td>\n",
       "      <td>Pave</td>\n",
       "      <td>NaN</td>\n",
       "      <td>Reg</td>\n",
       "      <td>AllPub</td>\n",
       "      <td>Inside</td>\n",
       "      <td>Gtl</td>\n",
       "      <td>...</td>\n",
       "      <td>0</td>\n",
       "      <td>NaN</td>\n",
       "      <td>NaN</td>\n",
       "      <td>NaN</td>\n",
       "      <td>0</td>\n",
       "      <td>8</td>\n",
       "      <td>2007</td>\n",
       "      <td>Normal</td>\n",
       "      <td>175000</td>\n",
       "      <td>0</td>\n",
       "    </tr>\n",
       "    <tr>\n",
       "      <th>1456</th>\n",
       "      <td>20</td>\n",
       "      <td>RL</td>\n",
       "      <td>85.0</td>\n",
       "      <td>13175</td>\n",
       "      <td>Pave</td>\n",
       "      <td>NaN</td>\n",
       "      <td>Reg</td>\n",
       "      <td>AllPub</td>\n",
       "      <td>Inside</td>\n",
       "      <td>Gtl</td>\n",
       "      <td>...</td>\n",
       "      <td>0</td>\n",
       "      <td>NaN</td>\n",
       "      <td>MnPrv</td>\n",
       "      <td>NaN</td>\n",
       "      <td>0</td>\n",
       "      <td>2</td>\n",
       "      <td>2010</td>\n",
       "      <td>Normal</td>\n",
       "      <td>210000</td>\n",
       "      <td>953</td>\n",
       "    </tr>\n",
       "    <tr>\n",
       "      <th>1457</th>\n",
       "      <td>70</td>\n",
       "      <td>RL</td>\n",
       "      <td>66.0</td>\n",
       "      <td>9042</td>\n",
       "      <td>Pave</td>\n",
       "      <td>NaN</td>\n",
       "      <td>Reg</td>\n",
       "      <td>AllPub</td>\n",
       "      <td>Inside</td>\n",
       "      <td>Gtl</td>\n",
       "      <td>...</td>\n",
       "      <td>0</td>\n",
       "      <td>NaN</td>\n",
       "      <td>GdPrv</td>\n",
       "      <td>Shed</td>\n",
       "      <td>2500</td>\n",
       "      <td>5</td>\n",
       "      <td>2010</td>\n",
       "      <td>Normal</td>\n",
       "      <td>266500</td>\n",
       "      <td>275</td>\n",
       "    </tr>\n",
       "    <tr>\n",
       "      <th>1458</th>\n",
       "      <td>20</td>\n",
       "      <td>RL</td>\n",
       "      <td>68.0</td>\n",
       "      <td>9717</td>\n",
       "      <td>Pave</td>\n",
       "      <td>NaN</td>\n",
       "      <td>Reg</td>\n",
       "      <td>AllPub</td>\n",
       "      <td>Inside</td>\n",
       "      <td>Gtl</td>\n",
       "      <td>...</td>\n",
       "      <td>112</td>\n",
       "      <td>NaN</td>\n",
       "      <td>NaN</td>\n",
       "      <td>NaN</td>\n",
       "      <td>0</td>\n",
       "      <td>4</td>\n",
       "      <td>2010</td>\n",
       "      <td>Normal</td>\n",
       "      <td>142125</td>\n",
       "      <td>1078</td>\n",
       "    </tr>\n",
       "    <tr>\n",
       "      <th>1459</th>\n",
       "      <td>20</td>\n",
       "      <td>RL</td>\n",
       "      <td>75.0</td>\n",
       "      <td>9937</td>\n",
       "      <td>Pave</td>\n",
       "      <td>NaN</td>\n",
       "      <td>Reg</td>\n",
       "      <td>AllPub</td>\n",
       "      <td>Inside</td>\n",
       "      <td>Gtl</td>\n",
       "      <td>...</td>\n",
       "      <td>0</td>\n",
       "      <td>NaN</td>\n",
       "      <td>NaN</td>\n",
       "      <td>NaN</td>\n",
       "      <td>0</td>\n",
       "      <td>6</td>\n",
       "      <td>2008</td>\n",
       "      <td>Normal</td>\n",
       "      <td>147500</td>\n",
       "      <td>1120</td>\n",
       "    </tr>\n",
       "  </tbody>\n",
       "</table>\n",
       "<p>1460 rows × 67 columns</p>\n",
       "</div>"
      ],
      "text/plain": [
       "      MSSubClass MSZoning  LotFrontage  LotArea Street Alley LotShape  \\\n",
       "0             60       RL         65.0     8450   Pave   NaN      Reg   \n",
       "1             20       RL         80.0     9600   Pave   NaN      Reg   \n",
       "2             60       RL         68.0    11250   Pave   NaN      IR1   \n",
       "3             70       RL         60.0     9550   Pave   NaN      IR1   \n",
       "4             60       RL         84.0    14260   Pave   NaN      IR1   \n",
       "...          ...      ...          ...      ...    ...   ...      ...   \n",
       "1455          60       RL         62.0     7917   Pave   NaN      Reg   \n",
       "1456          20       RL         85.0    13175   Pave   NaN      Reg   \n",
       "1457          70       RL         66.0     9042   Pave   NaN      Reg   \n",
       "1458          20       RL         68.0     9717   Pave   NaN      Reg   \n",
       "1459          20       RL         75.0     9937   Pave   NaN      Reg   \n",
       "\n",
       "     Utilities LotConfig LandSlope  ... EnclosedPorch  PoolQC  Fence  \\\n",
       "0       AllPub    Inside       Gtl  ...             0     NaN    NaN   \n",
       "1       AllPub       FR2       Gtl  ...             0     NaN    NaN   \n",
       "2       AllPub    Inside       Gtl  ...             0     NaN    NaN   \n",
       "3       AllPub    Corner       Gtl  ...           272     NaN    NaN   \n",
       "4       AllPub       FR2       Gtl  ...             0     NaN    NaN   \n",
       "...        ...       ...       ...  ...           ...     ...    ...   \n",
       "1455    AllPub    Inside       Gtl  ...             0     NaN    NaN   \n",
       "1456    AllPub    Inside       Gtl  ...             0     NaN  MnPrv   \n",
       "1457    AllPub    Inside       Gtl  ...             0     NaN  GdPrv   \n",
       "1458    AllPub    Inside       Gtl  ...           112     NaN    NaN   \n",
       "1459    AllPub    Inside       Gtl  ...             0     NaN    NaN   \n",
       "\n",
       "     MiscFeature MiscVal  MoSold  YrSold  SaleCondition SalePrice BsmtFinSF  \n",
       "0            NaN       0       2    2008         Normal    208500       706  \n",
       "1            NaN       0       5    2007         Normal    181500       978  \n",
       "2            NaN       0       9    2008         Normal    223500       486  \n",
       "3            NaN       0       2    2006        Abnorml    140000       216  \n",
       "4            NaN       0      12    2008         Normal    250000       655  \n",
       "...          ...     ...     ...     ...            ...       ...       ...  \n",
       "1455         NaN       0       8    2007         Normal    175000         0  \n",
       "1456         NaN       0       2    2010         Normal    210000       953  \n",
       "1457        Shed    2500       5    2010         Normal    266500       275  \n",
       "1458         NaN       0       4    2010         Normal    142125      1078  \n",
       "1459         NaN       0       6    2008         Normal    147500      1120  \n",
       "\n",
       "[1460 rows x 67 columns]"
      ]
     },
     "execution_count": 15,
     "metadata": {},
     "output_type": "execute_result"
    }
   ],
   "source": [
    "combine[0]"
   ]
  },
  {
   "cell_type": "code",
   "execution_count": 16,
   "id": "professional-activity",
   "metadata": {},
   "outputs": [
    {
     "data": {
      "text/html": [
       "<div>\n",
       "<style scoped>\n",
       "    .dataframe tbody tr th:only-of-type {\n",
       "        vertical-align: middle;\n",
       "    }\n",
       "\n",
       "    .dataframe tbody tr th {\n",
       "        vertical-align: top;\n",
       "    }\n",
       "\n",
       "    .dataframe thead th {\n",
       "        text-align: right;\n",
       "    }\n",
       "</style>\n",
       "<table border=\"1\" class=\"dataframe\">\n",
       "  <thead>\n",
       "    <tr style=\"text-align: right;\">\n",
       "      <th></th>\n",
       "      <th>Alley</th>\n",
       "      <th>MiscFeature</th>\n",
       "      <th>Fence</th>\n",
       "      <th>PoolQC</th>\n",
       "      <th>Electrical</th>\n",
       "      <th>BsmtQual</th>\n",
       "      <th>BsmtCond</th>\n",
       "      <th>BsmtExposure</th>\n",
       "      <th>BsmtFinType1</th>\n",
       "      <th>BsmtFinType2</th>\n",
       "      <th>FireplaceQu</th>\n",
       "      <th>GarageType</th>\n",
       "      <th>GarageFinish</th>\n",
       "      <th>GarageCond</th>\n",
       "    </tr>\n",
       "  </thead>\n",
       "  <tbody>\n",
       "    <tr>\n",
       "      <th>count</th>\n",
       "      <td>91</td>\n",
       "      <td>54</td>\n",
       "      <td>281</td>\n",
       "      <td>7</td>\n",
       "      <td>1459</td>\n",
       "      <td>1423</td>\n",
       "      <td>1423</td>\n",
       "      <td>1422</td>\n",
       "      <td>1423</td>\n",
       "      <td>1422</td>\n",
       "      <td>770</td>\n",
       "      <td>1379</td>\n",
       "      <td>1379</td>\n",
       "      <td>1379</td>\n",
       "    </tr>\n",
       "    <tr>\n",
       "      <th>unique</th>\n",
       "      <td>2</td>\n",
       "      <td>4</td>\n",
       "      <td>4</td>\n",
       "      <td>3</td>\n",
       "      <td>5</td>\n",
       "      <td>4</td>\n",
       "      <td>4</td>\n",
       "      <td>4</td>\n",
       "      <td>6</td>\n",
       "      <td>6</td>\n",
       "      <td>5</td>\n",
       "      <td>6</td>\n",
       "      <td>3</td>\n",
       "      <td>5</td>\n",
       "    </tr>\n",
       "    <tr>\n",
       "      <th>top</th>\n",
       "      <td>Grvl</td>\n",
       "      <td>Shed</td>\n",
       "      <td>MnPrv</td>\n",
       "      <td>Gd</td>\n",
       "      <td>SBrkr</td>\n",
       "      <td>TA</td>\n",
       "      <td>TA</td>\n",
       "      <td>No</td>\n",
       "      <td>Unf</td>\n",
       "      <td>Unf</td>\n",
       "      <td>Gd</td>\n",
       "      <td>Attchd</td>\n",
       "      <td>Unf</td>\n",
       "      <td>TA</td>\n",
       "    </tr>\n",
       "    <tr>\n",
       "      <th>freq</th>\n",
       "      <td>50</td>\n",
       "      <td>49</td>\n",
       "      <td>157</td>\n",
       "      <td>3</td>\n",
       "      <td>1334</td>\n",
       "      <td>649</td>\n",
       "      <td>1311</td>\n",
       "      <td>953</td>\n",
       "      <td>430</td>\n",
       "      <td>1256</td>\n",
       "      <td>380</td>\n",
       "      <td>870</td>\n",
       "      <td>605</td>\n",
       "      <td>1326</td>\n",
       "    </tr>\n",
       "  </tbody>\n",
       "</table>\n",
       "</div>"
      ],
      "text/plain": [
       "       Alley MiscFeature  Fence PoolQC Electrical BsmtQual BsmtCond  \\\n",
       "count     91          54    281      7       1459     1423     1423   \n",
       "unique     2           4      4      3          5        4        4   \n",
       "top     Grvl        Shed  MnPrv     Gd      SBrkr       TA       TA   \n",
       "freq      50          49    157      3       1334      649     1311   \n",
       "\n",
       "       BsmtExposure BsmtFinType1 BsmtFinType2 FireplaceQu GarageType  \\\n",
       "count          1422         1423         1422         770       1379   \n",
       "unique            4            6            6           5          6   \n",
       "top              No          Unf          Unf          Gd     Attchd   \n",
       "freq            953          430         1256         380        870   \n",
       "\n",
       "       GarageFinish GarageCond  \n",
       "count          1379       1379  \n",
       "unique            3          5  \n",
       "top             Unf         TA  \n",
       "freq            605       1326  "
      ]
     },
     "execution_count": 16,
     "metadata": {},
     "output_type": "execute_result"
    }
   ],
   "source": [
    "new_dummies = [\"Alley\",\"MiscFeature\", \"Fence\",\"PoolQC\"]\n",
    "cat=df_train[[\"Alley\",\"MiscFeature\", \"Fence\",\"PoolQC\",\"Electrical\", 'BsmtQual','BsmtCond','BsmtExposure','BsmtFinType1','BsmtFinType2','FireplaceQu','GarageType','GarageFinish','GarageCond']].describe()\n",
    "cat"
   ]
  },
  {
   "cell_type": "code",
   "execution_count": 17,
   "id": "laden-boring",
   "metadata": {
    "scrolled": true
   },
   "outputs": [
    {
     "data": {
      "text/plain": [
       "((1460, 67), (1459, 66))"
      ]
     },
     "execution_count": 17,
     "metadata": {},
     "output_type": "execute_result"
    }
   ],
   "source": [
    "####THIS IS WHAT WE SHOULD DO:\n",
    "# null instances are NOT missing values in this data set for categorical values\n",
    "#instead of \"Nan\" in the entry, change to another string pandas will not recognize as \"null\"- \"empty\" perhaps\n",
    "for dataset in combine:\n",
    "    for feature in cat.columns:\n",
    "        dataset[feature].fillna(\"empty\", inplace=True) #filling each Nan entry with \"empty\" so pandas doesnt set to null (all data is valid for these sets)\n",
    "\n",
    "combine[0].shape, combine[1].shape# df_train.info() # checking that it actually worked\n",
    "\n"
   ]
  },
  {
   "cell_type": "code",
   "execution_count": 18,
   "id": "convinced-meditation",
   "metadata": {},
   "outputs": [],
   "source": [
    "#for dataset in combine:\n",
    "# df_test=df_test.drop(toBeDropped, axis=1)\n",
    "#df_train=pd.get_dummies(df_train,columns=toBeDummied, drop_first=True)"
   ]
  },
  {
   "cell_type": "code",
   "execution_count": 19,
   "id": "94d06ca0",
   "metadata": {},
   "outputs": [
    {
     "data": {
      "text/plain": [
       "((1460, 67), (1459, 66), (1460, 67), (1459, 66))"
      ]
     },
     "execution_count": 19,
     "metadata": {},
     "output_type": "execute_result"
    }
   ],
   "source": [
    " df_train.shape, df_test.shape, combine[0].shape, combine[1].shape"
   ]
  },
  {
   "cell_type": "code",
   "execution_count": 20,
   "id": "genetic-optimum",
   "metadata": {},
   "outputs": [],
   "source": [
    "#dummy variables after dropping others \n",
    "#identify all the categorical features\n",
    "toBeDummied=[]\n",
    "for i in range(df_train.shape[1]):\n",
    "    if df_train.iloc[:,i].dtype==object:\n",
    "        toBeDummied.append(df_train.columns[i])"
   ]
  },
  {
   "cell_type": "code",
   "execution_count": 21,
   "id": "accessory-prevention",
   "metadata": {},
   "outputs": [
    {
     "name": "stdout",
     "output_type": "stream",
     "text": [
      "['MSZoning', 'Street', 'Alley', 'LotShape', 'Utilities', 'LotConfig', 'LandSlope', 'Neighborhood', 'BldgType', 'HouseStyle', 'RoofStyle', 'RoofMatl', 'Exterior1st', 'Exterior2nd', 'MasVnrType', 'ExterCond', 'Foundation', 'BsmtQual', 'BsmtCond', 'BsmtExposure', 'BsmtFinType1', 'BsmtFinType2', 'Heating', 'HeatingQC', 'CentralAir', 'Electrical', 'KitchenQual', 'Functional', 'FireplaceQu', 'GarageType', 'GarageFinish', 'GarageCond', 'PavedDrive', 'PoolQC', 'Fence', 'MiscFeature', 'SaleCondition']\n"
     ]
    }
   ],
   "source": [
    "print(toBeDummied)"
   ]
  },
  {
   "cell_type": "code",
   "execution_count": 22,
   "id": "357097e6",
   "metadata": {
    "scrolled": true
   },
   "outputs": [
    {
     "data": {
      "text/plain": [
       "[      MSSubClass MSZoning  LotFrontage  LotArea Street  Alley LotShape  \\\n",
       " 0             60       RL         65.0     8450   Pave  empty      Reg   \n",
       " 1             20       RL         80.0     9600   Pave  empty      Reg   \n",
       " 2             60       RL         68.0    11250   Pave  empty      IR1   \n",
       " 3             70       RL         60.0     9550   Pave  empty      IR1   \n",
       " 4             60       RL         84.0    14260   Pave  empty      IR1   \n",
       " ...          ...      ...          ...      ...    ...    ...      ...   \n",
       " 1455          60       RL         62.0     7917   Pave  empty      Reg   \n",
       " 1456          20       RL         85.0    13175   Pave  empty      Reg   \n",
       " 1457          70       RL         66.0     9042   Pave  empty      Reg   \n",
       " 1458          20       RL         68.0     9717   Pave  empty      Reg   \n",
       " 1459          20       RL         75.0     9937   Pave  empty      Reg   \n",
       " \n",
       "      Utilities LotConfig LandSlope  ... EnclosedPorch  PoolQC  Fence  \\\n",
       " 0       AllPub    Inside       Gtl  ...             0   empty  empty   \n",
       " 1       AllPub       FR2       Gtl  ...             0   empty  empty   \n",
       " 2       AllPub    Inside       Gtl  ...             0   empty  empty   \n",
       " 3       AllPub    Corner       Gtl  ...           272   empty  empty   \n",
       " 4       AllPub       FR2       Gtl  ...             0   empty  empty   \n",
       " ...        ...       ...       ...  ...           ...     ...    ...   \n",
       " 1455    AllPub    Inside       Gtl  ...             0   empty  empty   \n",
       " 1456    AllPub    Inside       Gtl  ...             0   empty  MnPrv   \n",
       " 1457    AllPub    Inside       Gtl  ...             0   empty  GdPrv   \n",
       " 1458    AllPub    Inside       Gtl  ...           112   empty  empty   \n",
       " 1459    AllPub    Inside       Gtl  ...             0   empty  empty   \n",
       " \n",
       "      MiscFeature MiscVal  MoSold  YrSold  SaleCondition SalePrice BsmtFinSF  \n",
       " 0          empty       0       2    2008         Normal    208500       706  \n",
       " 1          empty       0       5    2007         Normal    181500       978  \n",
       " 2          empty       0       9    2008         Normal    223500       486  \n",
       " 3          empty       0       2    2006        Abnorml    140000       216  \n",
       " 4          empty       0      12    2008         Normal    250000       655  \n",
       " ...          ...     ...     ...     ...            ...       ...       ...  \n",
       " 1455       empty       0       8    2007         Normal    175000         0  \n",
       " 1456       empty       0       2    2010         Normal    210000       953  \n",
       " 1457        Shed    2500       5    2010         Normal    266500       275  \n",
       " 1458       empty       0       4    2010         Normal    142125      1078  \n",
       " 1459       empty       0       6    2008         Normal    147500      1120  \n",
       " \n",
       " [1460 rows x 67 columns],\n",
       "       MSSubClass MSZoning  LotFrontage  LotArea Street  Alley LotShape  \\\n",
       " 0             20       RH         80.0    11622   Pave  empty      Reg   \n",
       " 1             20       RL         81.0    14267   Pave  empty      IR1   \n",
       " 2             60       RL         74.0    13830   Pave  empty      IR1   \n",
       " 3             60       RL         78.0     9978   Pave  empty      IR1   \n",
       " 4            120       RL         43.0     5005   Pave  empty      IR1   \n",
       " ...          ...      ...          ...      ...    ...    ...      ...   \n",
       " 1454         160       RM         21.0     1936   Pave  empty      Reg   \n",
       " 1455         160       RM         21.0     1894   Pave  empty      Reg   \n",
       " 1456          20       RL        160.0    20000   Pave  empty      Reg   \n",
       " 1457          85       RL         62.0    10441   Pave  empty      Reg   \n",
       " 1458          60       RL         74.0     9627   Pave  empty      Reg   \n",
       " \n",
       "      Utilities LotConfig LandSlope  ... OpenPorchSF  EnclosedPorch  PoolQC  \\\n",
       " 0       AllPub    Inside       Gtl  ...           0              0   empty   \n",
       " 1       AllPub    Corner       Gtl  ...          36              0   empty   \n",
       " 2       AllPub    Inside       Gtl  ...          34              0   empty   \n",
       " 3       AllPub    Inside       Gtl  ...          36              0   empty   \n",
       " 4       AllPub    Inside       Gtl  ...          82              0   empty   \n",
       " ...        ...       ...       ...  ...         ...            ...     ...   \n",
       " 1454    AllPub    Inside       Gtl  ...           0              0   empty   \n",
       " 1455    AllPub    Inside       Gtl  ...          24              0   empty   \n",
       " 1456    AllPub    Inside       Gtl  ...           0              0   empty   \n",
       " 1457    AllPub    Inside       Gtl  ...          32              0   empty   \n",
       " 1458    AllPub    Inside       Mod  ...          48              0   empty   \n",
       " \n",
       "       Fence MiscFeature  MiscVal  MoSold  YrSold SaleCondition BsmtFinSF  \n",
       " 0     MnPrv       empty        0       6    2010        Normal     612.0  \n",
       " 1     empty        Gar2    12500       6    2010        Normal     923.0  \n",
       " 2     MnPrv       empty        0       3    2010        Normal     791.0  \n",
       " 3     empty       empty        0       6    2010        Normal     602.0  \n",
       " 4     empty       empty        0       1    2010        Normal     263.0  \n",
       " ...     ...         ...      ...     ...     ...           ...       ...  \n",
       " 1454  empty       empty        0       6    2006        Normal       0.0  \n",
       " 1455  empty       empty        0       4    2006       Abnorml     252.0  \n",
       " 1456  empty       empty        0       9    2006       Abnorml    1224.0  \n",
       " 1457  MnPrv        Shed      700       7    2006        Normal     337.0  \n",
       " 1458  empty       empty        0      11    2006        Normal     758.0  \n",
       " \n",
       " [1459 rows x 66 columns]]"
      ]
     },
     "execution_count": 22,
     "metadata": {},
     "output_type": "execute_result"
    }
   ],
   "source": [
    "combine"
   ]
  },
  {
   "cell_type": "code",
   "execution_count": 23,
   "id": "executive-mainland",
   "metadata": {
    "scrolled": true
   },
   "outputs": [
    {
     "name": "stdout",
     "output_type": "stream",
     "text": [
      "(1460, 67)\n"
     ]
    },
    {
     "data": {
      "text/plain": [
       "((1460, 67),\n",
       " (1459, 66),\n",
       "       MSSubClass MSZoning  LotFrontage  LotArea Street  Alley LotShape  \\\n",
       " 0             60       RL         65.0     8450   Pave  empty      Reg   \n",
       " 1             20       RL         80.0     9600   Pave  empty      Reg   \n",
       " 2             60       RL         68.0    11250   Pave  empty      IR1   \n",
       " 3             70       RL         60.0     9550   Pave  empty      IR1   \n",
       " 4             60       RL         84.0    14260   Pave  empty      IR1   \n",
       " ...          ...      ...          ...      ...    ...    ...      ...   \n",
       " 1455          60       RL         62.0     7917   Pave  empty      Reg   \n",
       " 1456          20       RL         85.0    13175   Pave  empty      Reg   \n",
       " 1457          70       RL         66.0     9042   Pave  empty      Reg   \n",
       " 1458          20       RL         68.0     9717   Pave  empty      Reg   \n",
       " 1459          20       RL         75.0     9937   Pave  empty      Reg   \n",
       " \n",
       "      Utilities LotConfig LandSlope  ... EnclosedPorch  PoolQC  Fence  \\\n",
       " 0       AllPub    Inside       Gtl  ...             0   empty  empty   \n",
       " 1       AllPub       FR2       Gtl  ...             0   empty  empty   \n",
       " 2       AllPub    Inside       Gtl  ...             0   empty  empty   \n",
       " 3       AllPub    Corner       Gtl  ...           272   empty  empty   \n",
       " 4       AllPub       FR2       Gtl  ...             0   empty  empty   \n",
       " ...        ...       ...       ...  ...           ...     ...    ...   \n",
       " 1455    AllPub    Inside       Gtl  ...             0   empty  empty   \n",
       " 1456    AllPub    Inside       Gtl  ...             0   empty  MnPrv   \n",
       " 1457    AllPub    Inside       Gtl  ...             0   empty  GdPrv   \n",
       " 1458    AllPub    Inside       Gtl  ...           112   empty  empty   \n",
       " 1459    AllPub    Inside       Gtl  ...             0   empty  empty   \n",
       " \n",
       "      MiscFeature MiscVal  MoSold  YrSold  SaleCondition SalePrice BsmtFinSF  \n",
       " 0          empty       0       2    2008         Normal    208500       706  \n",
       " 1          empty       0       5    2007         Normal    181500       978  \n",
       " 2          empty       0       9    2008         Normal    223500       486  \n",
       " 3          empty       0       2    2006        Abnorml    140000       216  \n",
       " 4          empty       0      12    2008         Normal    250000       655  \n",
       " ...          ...     ...     ...     ...            ...       ...       ...  \n",
       " 1455       empty       0       8    2007         Normal    175000         0  \n",
       " 1456       empty       0       2    2010         Normal    210000       953  \n",
       " 1457        Shed    2500       5    2010         Normal    266500       275  \n",
       " 1458       empty       0       4    2010         Normal    142125      1078  \n",
       " 1459       empty       0       6    2008         Normal    147500      1120  \n",
       " \n",
       " [1460 rows x 67 columns])"
      ]
     },
     "execution_count": 23,
     "metadata": {},
     "output_type": "execute_result"
    }
   ],
   "source": [
    "print(df_train.shape)\n",
    "combine[0].shape, combine[1].shape, combine[0]"
   ]
  },
  {
   "cell_type": "code",
   "execution_count": 24,
   "id": "4e77e385",
   "metadata": {},
   "outputs": [],
   "source": [
    "X_train=df_train.drop(\"SalePrice\",axis=1)\n",
    "y_train=df_train[\"SalePrice\"]\n",
    "df_train = X_train"
   ]
  },
  {
   "cell_type": "code",
   "execution_count": 25,
   "id": "3c10022a",
   "metadata": {},
   "outputs": [
    {
     "name": "stdout",
     "output_type": "stream",
     "text": [
      "(1460, 66)\n",
      "(1459, 66)\n"
     ]
    },
    {
     "data": {
      "text/plain": [
       "((1460, 67), (1459, 66), (2919, 66))"
      ]
     },
     "execution_count": 25,
     "metadata": {},
     "output_type": "execute_result"
    }
   ],
   "source": [
    "print(df_train.shape)\n",
    "print(df_test.shape)\n",
    "frames = [df_train, df_test]\n",
    "result = pd.concat(frames)\n",
    "combine[0].shape, combine[1].shape , result.shape"
   ]
  },
  {
   "cell_type": "code",
   "execution_count": 26,
   "id": "514729c5",
   "metadata": {},
   "outputs": [],
   "source": [
    "result=pd.get_dummies(result, columns=toBeDummied, drop_first=True)"
   ]
  },
  {
   "cell_type": "code",
   "execution_count": 27,
   "id": "b87da506",
   "metadata": {},
   "outputs": [],
   "source": [
    "df1 = result.iloc[:1460,:]\n",
    "df2 = result.iloc[1460:,:]"
   ]
  },
  {
   "cell_type": "code",
   "execution_count": 28,
   "id": "eaaa291b",
   "metadata": {},
   "outputs": [],
   "source": [
    "combine = [df_train,df_test]"
   ]
  },
  {
   "cell_type": "code",
   "execution_count": 29,
   "id": "planned-bankruptcy",
   "metadata": {},
   "outputs": [
    {
     "name": "stdout",
     "output_type": "stream",
     "text": [
      "(1460, 66)\n",
      "(1459, 66)\n"
     ]
    },
    {
     "data": {
      "text/plain": [
       "((1460, 66), (1459, 66), (2919, 219), (1460, 219), (1459, 219))"
      ]
     },
     "execution_count": 29,
     "metadata": {},
     "output_type": "execute_result"
    }
   ],
   "source": [
    "print(df_train.shape)\n",
    "print(df_test.shape)\n",
    "combine[0].shape, combine[1].shape , result.shape , df1.shape, df2.shape"
   ]
  },
  {
   "cell_type": "code",
   "execution_count": 30,
   "id": "f6659f3f",
   "metadata": {},
   "outputs": [],
   "source": [
    "df_train = df1\n",
    "df_test = df2"
   ]
  },
  {
   "cell_type": "code",
   "execution_count": 31,
   "id": "dc1f30d0",
   "metadata": {},
   "outputs": [
    {
     "data": {
      "text/plain": [
       "(1460,)"
      ]
     },
     "execution_count": 31,
     "metadata": {},
     "output_type": "execute_result"
    }
   ],
   "source": [
    "y_train.shape"
   ]
  },
  {
   "cell_type": "code",
   "execution_count": 32,
   "id": "statistical-faith",
   "metadata": {},
   "outputs": [
    {
     "data": {
      "text/html": [
       "<div>\n",
       "<style scoped>\n",
       "    .dataframe tbody tr th:only-of-type {\n",
       "        vertical-align: middle;\n",
       "    }\n",
       "\n",
       "    .dataframe tbody tr th {\n",
       "        vertical-align: top;\n",
       "    }\n",
       "\n",
       "    .dataframe thead th {\n",
       "        text-align: right;\n",
       "    }\n",
       "</style>\n",
       "<table border=\"1\" class=\"dataframe\">\n",
       "  <thead>\n",
       "    <tr style=\"text-align: right;\">\n",
       "      <th></th>\n",
       "      <th>MSSubClass</th>\n",
       "      <th>LotFrontage</th>\n",
       "      <th>LotArea</th>\n",
       "      <th>Condition1</th>\n",
       "      <th>Condition2</th>\n",
       "      <th>OverallCond</th>\n",
       "      <th>YearBuilt</th>\n",
       "      <th>YearRemodAdd</th>\n",
       "      <th>MasVnrArea</th>\n",
       "      <th>BsmtFinSF1</th>\n",
       "      <th>...</th>\n",
       "      <th>Fence_empty</th>\n",
       "      <th>MiscFeature_Othr</th>\n",
       "      <th>MiscFeature_Shed</th>\n",
       "      <th>MiscFeature_TenC</th>\n",
       "      <th>MiscFeature_empty</th>\n",
       "      <th>SaleCondition_AdjLand</th>\n",
       "      <th>SaleCondition_Alloca</th>\n",
       "      <th>SaleCondition_Family</th>\n",
       "      <th>SaleCondition_Normal</th>\n",
       "      <th>SaleCondition_Partial</th>\n",
       "    </tr>\n",
       "  </thead>\n",
       "  <tbody>\n",
       "    <tr>\n",
       "      <th>count</th>\n",
       "      <td>1460.000000</td>\n",
       "      <td>1460.000000</td>\n",
       "      <td>1460.000000</td>\n",
       "      <td>1460.000000</td>\n",
       "      <td>1460.000000</td>\n",
       "      <td>1460.000000</td>\n",
       "      <td>1460.000000</td>\n",
       "      <td>1460.000000</td>\n",
       "      <td>1460.000000</td>\n",
       "      <td>1460.000000</td>\n",
       "      <td>...</td>\n",
       "      <td>1460.000000</td>\n",
       "      <td>1460.000000</td>\n",
       "      <td>1460.000000</td>\n",
       "      <td>1460.000000</td>\n",
       "      <td>1460.000000</td>\n",
       "      <td>1460.000000</td>\n",
       "      <td>1460.000000</td>\n",
       "      <td>1460.000000</td>\n",
       "      <td>1460.000000</td>\n",
       "      <td>1460.000000</td>\n",
       "    </tr>\n",
       "    <tr>\n",
       "      <th>mean</th>\n",
       "      <td>56.897260</td>\n",
       "      <td>57.623288</td>\n",
       "      <td>10516.828082</td>\n",
       "      <td>0.136986</td>\n",
       "      <td>0.010274</td>\n",
       "      <td>5.575342</td>\n",
       "      <td>1971.267808</td>\n",
       "      <td>1984.865753</td>\n",
       "      <td>103.117123</td>\n",
       "      <td>443.639726</td>\n",
       "      <td>...</td>\n",
       "      <td>0.807534</td>\n",
       "      <td>0.001370</td>\n",
       "      <td>0.033562</td>\n",
       "      <td>0.000685</td>\n",
       "      <td>0.963014</td>\n",
       "      <td>0.002740</td>\n",
       "      <td>0.008219</td>\n",
       "      <td>0.013699</td>\n",
       "      <td>0.820548</td>\n",
       "      <td>0.085616</td>\n",
       "    </tr>\n",
       "    <tr>\n",
       "      <th>std</th>\n",
       "      <td>42.300571</td>\n",
       "      <td>34.664304</td>\n",
       "      <td>9981.264932</td>\n",
       "      <td>0.343951</td>\n",
       "      <td>0.100873</td>\n",
       "      <td>1.112799</td>\n",
       "      <td>30.202904</td>\n",
       "      <td>20.645407</td>\n",
       "      <td>180.731373</td>\n",
       "      <td>456.098091</td>\n",
       "      <td>...</td>\n",
       "      <td>0.394372</td>\n",
       "      <td>0.036999</td>\n",
       "      <td>0.180160</td>\n",
       "      <td>0.026171</td>\n",
       "      <td>0.188793</td>\n",
       "      <td>0.052289</td>\n",
       "      <td>0.090317</td>\n",
       "      <td>0.116277</td>\n",
       "      <td>0.383862</td>\n",
       "      <td>0.279893</td>\n",
       "    </tr>\n",
       "    <tr>\n",
       "      <th>min</th>\n",
       "      <td>20.000000</td>\n",
       "      <td>0.000000</td>\n",
       "      <td>1300.000000</td>\n",
       "      <td>0.000000</td>\n",
       "      <td>0.000000</td>\n",
       "      <td>1.000000</td>\n",
       "      <td>1872.000000</td>\n",
       "      <td>1950.000000</td>\n",
       "      <td>0.000000</td>\n",
       "      <td>0.000000</td>\n",
       "      <td>...</td>\n",
       "      <td>0.000000</td>\n",
       "      <td>0.000000</td>\n",
       "      <td>0.000000</td>\n",
       "      <td>0.000000</td>\n",
       "      <td>0.000000</td>\n",
       "      <td>0.000000</td>\n",
       "      <td>0.000000</td>\n",
       "      <td>0.000000</td>\n",
       "      <td>0.000000</td>\n",
       "      <td>0.000000</td>\n",
       "    </tr>\n",
       "    <tr>\n",
       "      <th>25%</th>\n",
       "      <td>20.000000</td>\n",
       "      <td>42.000000</td>\n",
       "      <td>7553.500000</td>\n",
       "      <td>0.000000</td>\n",
       "      <td>0.000000</td>\n",
       "      <td>5.000000</td>\n",
       "      <td>1954.000000</td>\n",
       "      <td>1967.000000</td>\n",
       "      <td>0.000000</td>\n",
       "      <td>0.000000</td>\n",
       "      <td>...</td>\n",
       "      <td>1.000000</td>\n",
       "      <td>0.000000</td>\n",
       "      <td>0.000000</td>\n",
       "      <td>0.000000</td>\n",
       "      <td>1.000000</td>\n",
       "      <td>0.000000</td>\n",
       "      <td>0.000000</td>\n",
       "      <td>0.000000</td>\n",
       "      <td>1.000000</td>\n",
       "      <td>0.000000</td>\n",
       "    </tr>\n",
       "    <tr>\n",
       "      <th>50%</th>\n",
       "      <td>50.000000</td>\n",
       "      <td>63.000000</td>\n",
       "      <td>9478.500000</td>\n",
       "      <td>0.000000</td>\n",
       "      <td>0.000000</td>\n",
       "      <td>5.000000</td>\n",
       "      <td>1973.000000</td>\n",
       "      <td>1994.000000</td>\n",
       "      <td>0.000000</td>\n",
       "      <td>383.500000</td>\n",
       "      <td>...</td>\n",
       "      <td>1.000000</td>\n",
       "      <td>0.000000</td>\n",
       "      <td>0.000000</td>\n",
       "      <td>0.000000</td>\n",
       "      <td>1.000000</td>\n",
       "      <td>0.000000</td>\n",
       "      <td>0.000000</td>\n",
       "      <td>0.000000</td>\n",
       "      <td>1.000000</td>\n",
       "      <td>0.000000</td>\n",
       "    </tr>\n",
       "    <tr>\n",
       "      <th>75%</th>\n",
       "      <td>70.000000</td>\n",
       "      <td>79.000000</td>\n",
       "      <td>11601.500000</td>\n",
       "      <td>0.000000</td>\n",
       "      <td>0.000000</td>\n",
       "      <td>6.000000</td>\n",
       "      <td>2000.000000</td>\n",
       "      <td>2004.000000</td>\n",
       "      <td>164.250000</td>\n",
       "      <td>712.250000</td>\n",
       "      <td>...</td>\n",
       "      <td>1.000000</td>\n",
       "      <td>0.000000</td>\n",
       "      <td>0.000000</td>\n",
       "      <td>0.000000</td>\n",
       "      <td>1.000000</td>\n",
       "      <td>0.000000</td>\n",
       "      <td>0.000000</td>\n",
       "      <td>0.000000</td>\n",
       "      <td>1.000000</td>\n",
       "      <td>0.000000</td>\n",
       "    </tr>\n",
       "    <tr>\n",
       "      <th>max</th>\n",
       "      <td>190.000000</td>\n",
       "      <td>313.000000</td>\n",
       "      <td>215245.000000</td>\n",
       "      <td>1.000000</td>\n",
       "      <td>1.000000</td>\n",
       "      <td>9.000000</td>\n",
       "      <td>2010.000000</td>\n",
       "      <td>2010.000000</td>\n",
       "      <td>1600.000000</td>\n",
       "      <td>5644.000000</td>\n",
       "      <td>...</td>\n",
       "      <td>1.000000</td>\n",
       "      <td>1.000000</td>\n",
       "      <td>1.000000</td>\n",
       "      <td>1.000000</td>\n",
       "      <td>1.000000</td>\n",
       "      <td>1.000000</td>\n",
       "      <td>1.000000</td>\n",
       "      <td>1.000000</td>\n",
       "      <td>1.000000</td>\n",
       "      <td>1.000000</td>\n",
       "    </tr>\n",
       "  </tbody>\n",
       "</table>\n",
       "<p>8 rows × 219 columns</p>\n",
       "</div>"
      ],
      "text/plain": [
       "        MSSubClass  LotFrontage        LotArea   Condition1   Condition2  \\\n",
       "count  1460.000000  1460.000000    1460.000000  1460.000000  1460.000000   \n",
       "mean     56.897260    57.623288   10516.828082     0.136986     0.010274   \n",
       "std      42.300571    34.664304    9981.264932     0.343951     0.100873   \n",
       "min      20.000000     0.000000    1300.000000     0.000000     0.000000   \n",
       "25%      20.000000    42.000000    7553.500000     0.000000     0.000000   \n",
       "50%      50.000000    63.000000    9478.500000     0.000000     0.000000   \n",
       "75%      70.000000    79.000000   11601.500000     0.000000     0.000000   \n",
       "max     190.000000   313.000000  215245.000000     1.000000     1.000000   \n",
       "\n",
       "       OverallCond    YearBuilt  YearRemodAdd   MasVnrArea   BsmtFinSF1  ...  \\\n",
       "count  1460.000000  1460.000000   1460.000000  1460.000000  1460.000000  ...   \n",
       "mean      5.575342  1971.267808   1984.865753   103.117123   443.639726  ...   \n",
       "std       1.112799    30.202904     20.645407   180.731373   456.098091  ...   \n",
       "min       1.000000  1872.000000   1950.000000     0.000000     0.000000  ...   \n",
       "25%       5.000000  1954.000000   1967.000000     0.000000     0.000000  ...   \n",
       "50%       5.000000  1973.000000   1994.000000     0.000000   383.500000  ...   \n",
       "75%       6.000000  2000.000000   2004.000000   164.250000   712.250000  ...   \n",
       "max       9.000000  2010.000000   2010.000000  1600.000000  5644.000000  ...   \n",
       "\n",
       "       Fence_empty  MiscFeature_Othr  MiscFeature_Shed  MiscFeature_TenC  \\\n",
       "count  1460.000000       1460.000000       1460.000000       1460.000000   \n",
       "mean      0.807534          0.001370          0.033562          0.000685   \n",
       "std       0.394372          0.036999          0.180160          0.026171   \n",
       "min       0.000000          0.000000          0.000000          0.000000   \n",
       "25%       1.000000          0.000000          0.000000          0.000000   \n",
       "50%       1.000000          0.000000          0.000000          0.000000   \n",
       "75%       1.000000          0.000000          0.000000          0.000000   \n",
       "max       1.000000          1.000000          1.000000          1.000000   \n",
       "\n",
       "       MiscFeature_empty  SaleCondition_AdjLand  SaleCondition_Alloca  \\\n",
       "count        1460.000000            1460.000000           1460.000000   \n",
       "mean            0.963014               0.002740              0.008219   \n",
       "std             0.188793               0.052289              0.090317   \n",
       "min             0.000000               0.000000              0.000000   \n",
       "25%             1.000000               0.000000              0.000000   \n",
       "50%             1.000000               0.000000              0.000000   \n",
       "75%             1.000000               0.000000              0.000000   \n",
       "max             1.000000               1.000000              1.000000   \n",
       "\n",
       "       SaleCondition_Family  SaleCondition_Normal  SaleCondition_Partial  \n",
       "count           1460.000000           1460.000000            1460.000000  \n",
       "mean               0.013699              0.820548               0.085616  \n",
       "std                0.116277              0.383862               0.279893  \n",
       "min                0.000000              0.000000               0.000000  \n",
       "25%                0.000000              1.000000               0.000000  \n",
       "50%                0.000000              1.000000               0.000000  \n",
       "75%                0.000000              1.000000               0.000000  \n",
       "max                1.000000              1.000000               1.000000  \n",
       "\n",
       "[8 rows x 219 columns]"
      ]
     },
     "execution_count": 32,
     "metadata": {},
     "output_type": "execute_result"
    }
   ],
   "source": [
    "# check out the data now that all features should be numerical\n",
    "df_train.describe()"
   ]
  },
  {
   "cell_type": "code",
   "execution_count": 33,
   "id": "medieval-consumer",
   "metadata": {},
   "outputs": [],
   "source": [
    "#look into what is going wrong with the Nan values left over after this processing?\n",
    "# X_train_z_scaled[0:10,:] # there are still a few Nan's left\n",
    "\n",
    "#what is the corresponding column name? Let's check to see how best to address this\n",
    "# display(df_train.head(10))\n",
    "\n",
    "#this column is the lot frontage, i think that a NaN value could/should be replaced with the mean values?\n",
    "#a nan value perhaps means that there is no lot associated with the property- an apartment for exampl??\n",
    "#in this case we should set all of the Nan values to 0\n",
    "\n",
    "#####df_train[\"LotFrontage\"].fillna(0,inplace=True)\n",
    "\n",
    "#now check it worked\n",
    "######display(df_train.head(10))\n",
    "\n",
    "#-CHECK LATER"
   ]
  },
  {
   "cell_type": "code",
   "execution_count": 34,
   "id": "beneficial-uniform",
   "metadata": {},
   "outputs": [],
   "source": [
    "#now that data has been appropriately cleaned split the training set into the feature matrix and target variables\n",
    "#  X_train=df_train.drop(\"SalePrice\",axis=1)\n",
    "# y_train=df_train[\"SalePrice\"]\n",
    "X_train=df_train"
   ]
  },
  {
   "cell_type": "markdown",
   "id": "central-candy",
   "metadata": {},
   "source": [
    "# Tree-based algorithms are scale-invariant...do not z-scale"
   ]
  },
  {
   "cell_type": "markdown",
   "id": "attended-decimal",
   "metadata": {},
   "source": [
    "## Z-scale the data to ensure no features dominate the predictions"
   ]
  },
  {
   "cell_type": "code",
   "execution_count": 35,
   "id": "hidden-enclosure",
   "metadata": {},
   "outputs": [],
   "source": [
    "# #visualize the first 50 houses as a color map to see the differences\n",
    "# first50=X_train.head(50)\n",
    "\n",
    "# plt.imshow(first50,cmap='gray', aspect='auto')\n",
    "# plt.colorbar()\n",
    "# plt.show()"
   ]
  },
  {
   "cell_type": "code",
   "execution_count": 36,
   "id": "representative-basket",
   "metadata": {},
   "outputs": [],
   "source": [
    "## we can see that we require standardization as there are many attributes which have very small numbers and a few which are very large in comparison\n",
    "#in order to prevent data leakage, we should standardize the data using a sklearn's Pipeline implementation"
   ]
  },
  {
   "cell_type": "code",
   "execution_count": 37,
   "id": "proved-valley",
   "metadata": {},
   "outputs": [],
   "source": [
    "# # we should standardize as many of the observations are encoded (0 or 1) and a few which were not are very large relatively speaking \n",
    "# scaler=StandardScaler(with_mean=True, with_std=True)\n",
    "\n",
    "\n",
    "# #we only wish to scale the predictive features and not the target variable at this point (I think?)\n",
    "# X_train_z_scaled=scaler.fit_transform(X_train)\n",
    "\n",
    "# #now check out the values to see that it worked\n",
    "# first50=X_train_z_scaled[0:50,:]\n",
    "# plt.imshow(first50, cmap='gray', aspect=\"auto\")\n",
    "# plt.colorbar()\n",
    "# plt.show()"
   ]
  },
  {
   "cell_type": "code",
   "execution_count": 38,
   "id": "ceramic-drinking",
   "metadata": {},
   "outputs": [],
   "source": [
    "#this is looking much better! Let us begin model selection and deployment"
   ]
  },
  {
   "cell_type": "markdown",
   "id": "executive-walnut",
   "metadata": {},
   "source": [
    "# Select and Train a Model"
   ]
  },
  {
   "cell_type": "markdown",
   "id": "educated-agenda",
   "metadata": {},
   "source": [
    "Going to use the mean absolute percent error to tune parameters and the coefficient of determination (R^2 value) to evaluate/compare the performance of the models."
   ]
  },
  {
   "cell_type": "code",
   "execution_count": 39,
   "id": "heard-swaziland",
   "metadata": {},
   "outputs": [],
   "source": [
    "## this is a function which computes the mean squared error given a set of predicted and true values\n",
    "# def mse(y,ypred):\n",
    "#     return np.mean((ypred-y)**2)\n",
    "\n",
    "\n",
    "#sklearn has a function for the R2 value:\n",
    "from sklearn.metrics import r2_score"
   ]
  },
  {
   "cell_type": "code",
   "execution_count": 40,
   "id": "thrown-bookmark",
   "metadata": {},
   "outputs": [
    {
     "name": "stdout",
     "output_type": "stream",
     "text": [
      "(1168, 219) (1168,) (292, 219) (292,)\n"
     ]
    }
   ],
   "source": [
    "#lets split our training data into a training and validation set which we can use to train and validate our model\n",
    "X_train, X_val, y_train, y_val= train_test_split(X_train, y_train, test_size=0.2, random_state=0)\n",
    "\n",
    "#check it gave the right proportions\n",
    "print(X_train.shape, y_train.shape, X_val.shape, y_val.shape)"
   ]
  },
  {
   "cell_type": "code",
   "execution_count": null,
   "id": "exclusive-version",
   "metadata": {},
   "outputs": [],
   "source": []
  },
  {
   "cell_type": "markdown",
   "id": "engaged-impression",
   "metadata": {},
   "source": [
    "## Bagging \n"
   ]
  },
  {
   "cell_type": "code",
   "execution_count": 41,
   "id": "vital-necklace",
   "metadata": {},
   "outputs": [],
   "source": [
    "# in this algorithm, we tune the number of estimators to explore using the OOB score\n",
    "#\n",
    "# once the optimal number of estimators is determined, train and test the algorithm using this architecture"
   ]
  },
  {
   "cell_type": "code",
   "execution_count": 42,
   "id": "mediterranean-welding",
   "metadata": {},
   "outputs": [
    {
     "data": {
      "image/png": "[encoded data removed]",
      "text/plain": [
       "<Figure size 432x288 with 1 Axes>"
      ]
     },
     "metadata": {
      "needs_background": "light"
     },
     "output_type": "display_data"
    }
   ],
   "source": [
    "from sklearn.ensemble import BaggingRegressor\n",
    "\n",
    "# BagReg=BaggingRegressor(oob_score=True, random_state=0)\n",
    "\n",
    "\n",
    "# we are iterating over/ tuning the number of trees\n",
    "from collections import OrderedDict\n",
    "\n",
    "ensemble_clf=[('Boostrap Aggregate Regressor OOB Error', BaggingRegressor(oob_score=True, random_state=0))]\n",
    "\n",
    "error_rate=OrderedDict((label,  []) for label, _ in ensemble_clf)\n",
    "\n",
    "#specify the range of trees we wish to explore\n",
    "min_trees=50\n",
    "max_trees=500\n",
    "\n",
    "##SOFIA- maybe try to train over up to 500 trees just to be sure the OOB score is truly level?\n",
    "\n",
    "for label, clf in ensemble_clf:\n",
    "    for i in range(min_trees, max_trees+1):\n",
    "        clf.set_params(n_estimators=i) #set the number of trees for each forest\n",
    "        clf.fit(X_train,y_train)\n",
    "        \n",
    "        #make sure to record the OOB score for each forest\n",
    "        oob_error=1-clf.oob_score_\n",
    "        error_rate[label].append((i,oob_error))\n",
    "        \n",
    "#now create a plot to visualize the OOB error as a function of the size of the forest\n",
    "for label, clf_err in error_rate.items():\n",
    "    xs, ys=zip(*clf_err)\n",
    "    plt.plot(xs,ys, label=label)\n",
    "    \n",
    "plt.xlim(min_trees, max_trees)\n",
    "plt.xlabel(\"number of trees\")\n",
    "plt.ylabel(\"OOB error\")\n",
    "plt.legend(loc='upper right')\n",
    "plt.title(\"OOB error vs Forest Size\")\n",
    "plt.show()"
   ]
  },
  {
   "cell_type": "code",
   "execution_count": 43,
   "id": "affected-launch",
   "metadata": {},
   "outputs": [
    {
     "data": {
      "image/png": "[encoded data removed]",
      "text/plain": [
       "<Figure size 432x288 with 1 Axes>"
      ]
     },
     "metadata": {
      "needs_background": "light"
     },
     "output_type": "display_data"
    }
   ],
   "source": [
    "#let us zoom in on the plot to see the true difference in scale of the OOB error\n",
    "#i am just interested in the region including number of trees>140\n",
    "\n",
    "#now create a plot to visualize the OOB error as a function of the size of the forest\n",
    "for label, clf_err in error_rate.items():\n",
    "    xs, ys=zip(*clf_err)\n",
    "    plt.plot(xs,ys, label=label)\n",
    "    \n",
    "plt.xlim(140, max_trees)\n",
    "plt.xlabel(\"number of trees\")\n",
    "plt.ylabel(\"OOB error\")\n",
    "plt.legend(loc='upper right')\n",
    "plt.title(\"OOB error vs Forest Size\")\n",
    "plt.show()"
   ]
  },
  {
   "cell_type": "markdown",
   "id": "helpful-screen",
   "metadata": {},
   "source": [
    "#### It looks as though the OOB error is beginning to really level off at around 250 estimators. Training of the algorithm should stop after the OOB error levels off, and so the optimal number of estimators used for this algorithm will be 250 if the OOB error does not change/level off significantly after this point."
   ]
  },
  {
   "cell_type": "markdown",
   "id": "604f96b3",
   "metadata": {},
   "source": [
    "Alireza to Sofia - I think the OOB error is now beginning to level off at around 350 estimators. I changed the number in the next cells related to Bagging"
   ]
  },
  {
   "cell_type": "code",
   "execution_count": 44,
   "id": "psychological-democrat",
   "metadata": {},
   "outputs": [
    {
     "data": {
      "text/plain": [
       "(1168, 219)"
      ]
     },
     "execution_count": 44,
     "metadata": {},
     "output_type": "execute_result"
    }
   ],
   "source": [
    "X_train.shape"
   ]
  },
  {
   "cell_type": "code",
   "execution_count": 45,
   "id": "divided-notice",
   "metadata": {},
   "outputs": [],
   "source": [
    "#here we will re-train the bagging decision tree regressor using optimal n_estimators and calculate the training and validation error\n",
    "\n",
    "bagReg=BaggingRegressor(oob_score=True, random_state=0, n_estimators=350).fit(X_train, y_train)\n",
    "y_pred_train=bagReg.predict(X_train)\n",
    "y_pred_val=bagReg.predict(X_val)\n",
    "\n",
    "# #now report the errors from each set of predictions as the mean squared error\n",
    "# mse_train=mse(y_train, y_pred_train)\n",
    "# mse_val=mse(y_val, y_pred_val)\n",
    "\n",
    "# print(\"training error using 240 estimators: \", mse_train)\n",
    "# print(\"validation error using 240 estimators: \", mse_val)"
   ]
  },
  {
   "cell_type": "code",
   "execution_count": 46,
   "id": "cleared-celtic",
   "metadata": {},
   "outputs": [
    {
     "name": "stdout",
     "output_type": "stream",
     "text": [
      "The MAPE for the training set is:  0.0398\n",
      "The MAPE for the validation set is:  0.1038\n"
     ]
    }
   ],
   "source": [
    "#reporting the Mean Absolute Percentage Error for the training and validation sets\n",
    "MAPE_train_bag=mean_absolute_percentage_error(y_train, y_pred_train)\n",
    "MAPE_val_bag=mean_absolute_percentage_error(y_val, y_pred_val)\n",
    "\n",
    "print(\"The MAPE for the training set is: \", round(MAPE_train_bag,4))\n",
    "print(\"The MAPE for the validation set is: \", round(MAPE_val_bag, 4))"
   ]
  },
  {
   "cell_type": "code",
   "execution_count": 47,
   "id": "vanilla-currency",
   "metadata": {},
   "outputs": [
    {
     "name": "stdout",
     "output_type": "stream",
     "text": [
      "The R2 score on the validation set:  0.8141171167705479\n"
     ]
    }
   ],
   "source": [
    "#report the R2 value (coefficient of determination) for this bagging model on the validation set\n",
    "R2_bag=r2_score(y_val, y_pred_val)\n",
    "\n",
    "print(\"The R2 score on the validation set: \", R2_bag)\n"
   ]
  },
  {
   "cell_type": "markdown",
   "id": "accompanied-washer",
   "metadata": {},
   "source": [
    "## Random Forest"
   ]
  },
  {
   "cell_type": "code",
   "execution_count": 48,
   "id": "impossible-summer",
   "metadata": {},
   "outputs": [],
   "source": [
    "# in this algorithm, similarly to bagging regression, we tune the number of trees in the forest using the OOB score\n",
    "\n",
    "# once the optimal number of estimators is determined, train and test the algorithm using this architecture\n"
   ]
  },
  {
   "cell_type": "code",
   "execution_count": 49,
   "id": "conscious-numbers",
   "metadata": {},
   "outputs": [],
   "source": [
    "# # we are iterating over/ tuning the number of trees\n",
    "\n",
    "# from sklearn.ensemble import RandomForestRegressor\n",
    "# from collections import OrderedDict\n",
    "\n",
    "# ensemble_clf=[('Random Forest Regressor OOB Error', RandomForestRegressor(oob_score=True, random_state=0))]\n",
    "\n",
    "# error_rate=OrderedDict((label,  []) for label, _ in ensemble_clf)\n",
    "\n",
    "# #specify the range of trees we wish to explore\n",
    "# min_trees=5\n",
    "# max_trees=10\n",
    "\n",
    "# for label, clf in ensemble_clf:\n",
    "#     for i in range(min_trees, max_trees+1):\n",
    "#         clf.set_params(n_estimators=i) #set the number of trees for each forest\n",
    "#         clf.fit(X_train_z_scaled,y_train)\n",
    "        \n",
    "#         #make sure to record the OOB score for each forest\n",
    "#         oob_error=1-clf.oob_score_\n",
    "#         error_rate[label].append((i,oob_error))\n",
    "        \n",
    "# #now create a plot to visualize the OOB error as a function of the size of the forest\n",
    "# for label, clf_err in error_rate.items():\n",
    "#     xs, ys=zip(*clf_err)\n",
    "#     plt.plot(xs,ys, label=label)\n",
    "    \n",
    "# plt.plot(xlim(min_trees, max_trees))\n",
    "# plt.xlabel(\"number of trees\")\n",
    "# plt.ylabel(\"OOB error\")\n",
    "# plt.legend(loc='upper right')\n",
    "# plt.title(\"OOB error vs Forest Size\")\n",
    "# plt.show()"
   ]
  },
  {
   "cell_type": "code",
   "execution_count": 50,
   "id": "harmful-qualification",
   "metadata": {},
   "outputs": [],
   "source": [
    "#ALIREZA- I commented out this cell because we can use sklearn's mean_absolute_percentage_error function for consistency\n",
    "\n",
    "# # I defined an \"evaluate\" function to calculate the \"mape\" of the model and returns the accuracy\n",
    "# def evaluate(model, test_features, test_labels):\n",
    "#     predictions = model.predict(test_features)\n",
    "#     errors = abs(predictions - test_labels)\n",
    "#     mape = 100 * np.mean(errors / test_labels)\n",
    "#     accuracy = 100 - mape\n",
    "#     print('Model Performance')\n",
    "#     print('Average Error: {:0.4f} degrees.'.format(np.mean(errors)))\n",
    "#     print('Accuracy = {:0.2f}%.'.format(accuracy))\n",
    "    \n",
    "#     return accuracy"
   ]
  },
  {
   "cell_type": "code",
   "execution_count": 51,
   "id": "biblical-curtis",
   "metadata": {},
   "outputs": [],
   "source": [
    "# param_grid = {\n",
    "#     'bootstrap': [False],\n",
    "#     'max_depth': [30, 40 , 50, 60, 70],\n",
    "# #   'max_features': [2, 3, 4, 5, 6, 7, 8, 9],\n",
    "#     'max_features': [4, 8, 15, 20, 30],\n",
    "#     'min_samples_leaf': [2, 4, 8],\n",
    "#     'min_samples_split': [4, 6, 8, 10, 12, 14, 16],\n",
    "#     'n_estimators': [20, 30 , 40 , 50, 60 , 80, 100]\n",
    "# }\n",
    "\n",
    "##ALIREZA- I re-defined the parameter grid- see reasons below\n",
    "param_grid = {\n",
    "             \"n_estimators\": [100,150,200,250,300,350,400], #larger number of trees reduces variance between predictions\n",
    "             \"max_depth\":[5,10,15,20,25,30], #shorter trees make more effective/meaningful splits\n",
    "             \"max_features\":[\"auto\",\"sqrt\",\"log2\"], #i do not know how to justify an integer number of max features for a given data set\n",
    "             \"min_samples_leaf\": [1,2,4,6,8], #added the deafult value as well\n",
    "      #       \"criterion\":['gini', 'entropy'] #think this would be good to tune as well\n",
    "             #just removed the min_samples_split because I am not sure there is any difference between this parameter and min_samples_leaf?\n",
    "            }\n",
    "\n",
    "\n",
    "# Create a based model\n",
    "rf = RandomForestRegressor()\n",
    "# Instantiate the grid search model\n",
    "grid_search = GridSearchCV(estimator = rf, param_grid = param_grid, \n",
    "                          cv = None, n_jobs = 15, verbose = 2)"
   ]
  },
  {
   "cell_type": "code",
   "execution_count": 52,
   "id": "79af6e04",
   "metadata": {},
   "outputs": [
    {
     "name": "stdout",
     "output_type": "stream",
     "text": [
      "The MAPE of default RF model on training set:  0.0495\n",
      "The MAPE of default RF model on validation set:  0.1143\n",
      "The R2 score for the default Random Forest model:  0.8092120016522597\n"
     ]
    }
   ],
   "source": [
    "# the base model = not fine-tuned \n",
    "base_model = RandomForestRegressor(n_estimators = 10, random_state = 0)\n",
    "base_model.fit(X_train, y_train)\n",
    "\n",
    "y_pred_train=base_model.predict(X_train)\n",
    "y_pred_val=base_model.predict(X_val)\n",
    "\n",
    "#report the MAPE on both the training and validation sets\n",
    "MAPE_train=mean_absolute_percentage_error(y_train, y_pred_train)\n",
    "MAPE_val=mean_absolute_percentage_error(y_val, y_pred_val)\n",
    "\n",
    "print(\"The MAPE of default RF model on training set: \", round(MAPE_train, 4))\n",
    "print(\"The MAPE of default RF model on validation set: \", round(MAPE_val,4))\n",
    "\n",
    "\n",
    "#report the R2 value for the default model on the validation set\n",
    "R2_rf_default=r2_score(y_val, y_pred_val)\n",
    "print(\"The R2 score for the default Random Forest model: \", R2_rf_default)\n",
    "\n",
    "# base_accuracy = evaluate(base_model, X_val, y_val) \n",
    "# # Model Performance\n",
    "# # Average Error: 3.9199 degrees.\n",
    "# # Accuracy = 93.36%."
   ]
  },
  {
   "cell_type": "code",
   "execution_count": null,
   "id": "4ba4d8d3",
   "metadata": {},
   "outputs": [],
   "source": []
  },
  {
   "cell_type": "code",
   "execution_count": 53,
   "id": "e5957b26",
   "metadata": {},
   "outputs": [
    {
     "name": "stdout",
     "output_type": "stream",
     "text": [
      "Fitting 5 folds for each of 630 candidates, totalling 3150 fits\n"
     ]
    },
    {
     "data": {
      "text/plain": [
       "GridSearchCV(estimator=RandomForestRegressor(), n_jobs=15,\n",
       "             param_grid={'max_depth': [5, 10, 15, 20, 25, 30],\n",
       "                         'max_features': ['auto', 'sqrt', 'log2'],\n",
       "                         'min_samples_leaf': [1, 2, 4, 6, 8],\n",
       "                         'n_estimators': [100, 150, 200, 250, 300, 350, 400]},\n",
       "             verbose=2)"
      ]
     },
     "execution_count": 53,
     "metadata": {},
     "output_type": "execute_result"
    }
   ],
   "source": [
    "# Here I have used GridSearchCV to find the \"best_estimator\"\n",
    "grid_search.fit(X_train, y_train) \n",
    "#grid_search.best_params_\n",
    "#print(grid_search.best_params_)"
   ]
  },
  {
   "cell_type": "code",
   "execution_count": 54,
   "id": "ee3f3954",
   "metadata": {},
   "outputs": [
    {
     "name": "stdout",
     "output_type": "stream",
     "text": [
      "{'max_depth': 20, 'max_features': 'auto', 'min_samples_leaf': 1, 'n_estimators': 400}\n"
     ]
    }
   ],
   "source": [
    "print(grid_search.best_params_)"
   ]
  },
  {
   "cell_type": "code",
   "execution_count": 55,
   "id": "0c233631",
   "metadata": {},
   "outputs": [
    {
     "name": "stdout",
     "output_type": "stream",
     "text": [
      "The MAPE for the training set is:  0.0396\n",
      "The MAPE for the validation set is:  0.1047\n"
     ]
    }
   ],
   "source": [
    "best_grid = grid_search.best_estimator_\n",
    "\n",
    "y_pred_train_rf=best_grid.predict(X_train)\n",
    "y_pred_val_rf=best_grid.predict(X_val)\n",
    "\n",
    "#reporting the Mean Absolute Percentage Error for the training and validation sets\n",
    "MAPE_train_rf=mean_absolute_percentage_error(y_train, y_pred_train_rf)\n",
    "MAPE_val_rf=mean_absolute_percentage_error(y_val, y_pred_val_rf)\n",
    "\n",
    "print(\"The MAPE for the training set is: \", round(MAPE_train_rf,4))\n",
    "print(\"The MAPE for the validation set is: \", round(MAPE_val_rf, 4))\n",
    "#random_accuracy = evaluate(best_grid, X_val, y_val)\n",
    "# # Model Performance\n",
    "# # Average Error: 3.7152 degrees.\n",
    "# # Accuracy = 93.73%.\n",
    "#print('Improvement of {:0.2f}%.'.format( 100 * (random_accuracy - base_accuracy) / base_accuracy))\n",
    "# # Improvement of 0.40%."
   ]
  },
  {
   "cell_type": "code",
   "execution_count": 56,
   "id": "be64017e",
   "metadata": {},
   "outputs": [
    {
     "name": "stdout",
     "output_type": "stream",
     "text": [
      "{'max_depth': 20, 'max_features': 'auto', 'min_samples_leaf': 1, 'n_estimators': 400}\n"
     ]
    }
   ],
   "source": [
    "print(grid_search.best_params_)"
   ]
  },
  {
   "cell_type": "code",
   "execution_count": 57,
   "id": "1d783be9",
   "metadata": {},
   "outputs": [],
   "source": [
    "#make sure to report the MAPE and R2 score on the optmized Random Forest model\n",
    "#Thanks Sofia, you almost did everything in here. I did the same process you did for xgboost here for rf"
   ]
  },
  {
   "cell_type": "code",
   "execution_count": 58,
   "id": "693ed806",
   "metadata": {},
   "outputs": [
    {
     "name": "stdout",
     "output_type": "stream",
     "text": [
      "The R2 score on the validation set:  0.8168434678946833\n"
     ]
    }
   ],
   "source": [
    "R2_bag_rf=r2_score(y_val, y_pred_val_rf)\n",
    "\n",
    "print(\"The R2 score on the validation set: \", R2_bag_rf)"
   ]
  },
  {
   "cell_type": "markdown",
   "id": "royal-climate",
   "metadata": {},
   "source": [
    "\n",
    "## XGBoosted Model"
   ]
  },
  {
   "cell_type": "code",
   "execution_count": 59,
   "id": "adjacent-audience",
   "metadata": {},
   "outputs": [],
   "source": [
    "# this algorithm is much more sensitive to parameter changes, we will be tuning the learning rate, the tree depth, and the number of trees in the model\n",
    "\n",
    "# to do this, we will perform a grid search and use cross validation to select the optimal model architecture (we create a validation set using a subset of the training data)\n"
   ]
  },
  {
   "cell_type": "markdown",
   "id": "supreme-montana",
   "metadata": {},
   "source": [
    "-We should explore small learning rates (larger learning rates do not allow the tree to extract information effectively as the number of branches increases)\n",
    "-We want to keep the depth of the trees relatively short so that we can avoid too many strong learners in the model (this introduces variance).\n",
    "-We do not know a priori how many trees will be optimal for the dataset as this depends on the complexity of the data and the size of the dataset"
   ]
  },
  {
   "cell_type": "code",
   "execution_count": 60,
   "id": "forty-rachel",
   "metadata": {},
   "outputs": [
    {
     "name": "stdout",
     "output_type": "stream",
     "text": [
      "The MAPE of the default XGBoosted model on training set:  0.0079\n",
      "The MAPE of the default XGBoosted model on the validation set:  0.1117\n",
      "The R2 score for default XGBoosted model on the validation set:  0.7701787087716593\n"
     ]
    }
   ],
   "source": [
    "#as a baseline, let us start by exploring the performance of the default XGBoosted model\n",
    "from xgboost import XGBRegressor\n",
    "XGB_default=XGBRegressor(random_state=0)\n",
    "\n",
    "#train the model\n",
    "XGB_default.fit(X_train, y_train)\n",
    "#predict on the training and validation sets\n",
    "y_pred_train=XGB_default.predict(X_train)\n",
    "y_pred_val=XGB_default.predict(X_val)\n",
    "\n",
    "#report the MAPE for both the training and validation sets\n",
    "MAPE_train=mean_absolute_percentage_error(y_train, y_pred_train)\n",
    "MAPE_val=mean_absolute_percentage_error(y_val, y_pred_val)\n",
    "\n",
    "print(\"The MAPE of the default XGBoosted model on training set: \", round(MAPE_train,4))\n",
    "print(\"The MAPE of the default XGBoosted model on the validation set: \", round(MAPE_val,4))\n",
    "\n",
    "#report the R2 score for the default model on the validation set as well\n",
    "R2_XGB_default=r2_score(y_val, y_pred_val)\n",
    "print(\"The R2 score for default XGBoosted model on the validation set: \", R2_XGB_default)"
   ]
  },
  {
   "cell_type": "code",
   "execution_count": 61,
   "id": "native-jumping",
   "metadata": {},
   "outputs": [],
   "source": [
    "#define the XGB model to be fine-tuned using the grid search (3-fold cross-validation)\n",
    "# from xgboost import XGBRegressor\n",
    "from sklearn.metrics import fbeta_score, make_scorer\n",
    "num_trees=[150,200,250,300,350,400,450]\n",
    "depths=range(5,20, 15)\n",
    "learn_rates=[1e-3,1e-2,0.1,0.5]\n",
    "\n",
    "sc=make_scorer(mean_absolute_percentage_error)\n",
    "\n",
    "XGB_model=XGBRegressor(random_state=0)\n",
    "\n",
    "#define the parameter grid\n",
    "param_grid=dict({'n_estimators':num_trees,\"max_depth\":depths,'learning_rate':learn_rates})"
   ]
  },
  {
   "cell_type": "code",
   "execution_count": 62,
   "id": "european-obligation",
   "metadata": {},
   "outputs": [],
   "source": [
    "###SOFIA- if training the grid search on the training data set takes too long, use a fraction of it instead\n",
    "\n",
    "# #going to only train the grid search on a fraction of the training data to conserve resources\n",
    "# val_train=X_train.copy()\n",
    "# val_train[\"y\"]=y_train.copy()\n",
    "# val_train=val_train.sample(frac=0.5, random_state=0)"
   ]
  },
  {
   "cell_type": "code",
   "execution_count": 63,
   "id": "conventional-mortality",
   "metadata": {
    "scrolled": true
   },
   "outputs": [
    {
     "data": {
      "text/plain": [
       "GridSearchCV(cv=3,\n",
       "             estimator=XGBRegressor(base_score=None, booster=None,\n",
       "                                    colsample_bylevel=None,\n",
       "                                    colsample_bynode=None,\n",
       "                                    colsample_bytree=None,\n",
       "                                    enable_categorical=False, gamma=None,\n",
       "                                    gpu_id=None, importance_type=None,\n",
       "                                    interaction_constraints=None,\n",
       "                                    learning_rate=None, max_delta_step=None,\n",
       "                                    max_depth=None, min_child_weight=None,\n",
       "                                    missing=nan, monotone_constraints=None,\n",
       "                                    n_estimators=100, n_jobs=None,\n",
       "                                    num_parallel_tree=None, predictor=None,\n",
       "                                    random_state=0, reg_alpha=None,\n",
       "                                    reg_lambda=None, scale_pos_weight=None,\n",
       "                                    subsample=None, tree_method=None,\n",
       "                                    validate_parameters=None, verbosity=None),\n",
       "             n_jobs=10,\n",
       "             param_grid={'learning_rate': [0.001, 0.01, 0.1, 0.5],\n",
       "                         'max_depth': range(5, 20, 15),\n",
       "                         'n_estimators': [150, 200, 250, 300, 350, 400, 450]},\n",
       "             refit=False)"
      ]
     },
     "execution_count": 63,
     "metadata": {},
     "output_type": "execute_result"
    }
   ],
   "source": [
    "#train the grid search- going to use 3-fold cross-validation\n",
    "#we can set refit=True if we wish- this means that it will re-fit the model at the end using the parameters with best cross-validation score\n",
    "GridXGB=GridSearchCV(XGB_model,\n",
    "                     param_grid, \n",
    "                     cv=3, \n",
    "                     n_jobs=10,\n",
    "                #     scoring='mean_absolute_percentage_error', \n",
    "                     refit=False)\n",
    "GridXGB.fit(X_train, y_train) # train the grid search"
   ]
  },
  {
   "cell_type": "code",
   "execution_count": 64,
   "id": "imported-driving",
   "metadata": {},
   "outputs": [],
   "source": [
    "# print(y_train.shape, X_train.shape)"
   ]
  },
  {
   "cell_type": "code",
   "execution_count": 65,
   "id": "bibliographic-advantage",
   "metadata": {},
   "outputs": [
    {
     "name": "stdout",
     "output_type": "stream",
     "text": [
      "{'learning_rate': 0.1, 'max_depth': 5, 'n_estimators': 250}\n"
     ]
    },
    {
     "data": {
      "text/plain": [
       "XGBRegressor(base_score=0.5, booster='gbtree', colsample_bylevel=1,\n",
       "             colsample_bynode=1, colsample_bytree=1, enable_categorical=False,\n",
       "             gamma=0, gpu_id=-1, importance_type=None,\n",
       "             interaction_constraints='', learning_rate=0.1, max_delta_step=0,\n",
       "             max_depth=5, min_child_weight=1, missing=nan,\n",
       "             monotone_constraints='()', n_estimators=250, n_jobs=32,\n",
       "             num_parallel_tree=1, predictor='auto', random_state=0, reg_alpha=0,\n",
       "             reg_lambda=1, scale_pos_weight=1, subsample=1, tree_method='exact',\n",
       "             validate_parameters=1, verbosity=None)"
      ]
     },
     "execution_count": 65,
     "metadata": {},
     "output_type": "execute_result"
    }
   ],
   "source": [
    "#now train the best model found from the grid search on all of the training parameters\n",
    "#show the best parameters found\n",
    "print(GridXGB.best_params_)\n",
    "\n",
    "XGB_model_best=XGBRegressor(max_depth=GridXGB.best_params_.get('max_depth'), \n",
    "                            n_estimators=GridXGB.best_params_.get('n_estimators'), \n",
    "                            learning_rate=GridXGB.best_params_.get('learning_rate'), \n",
    "                            random_state=0)\n",
    "\n",
    "XGB_model_best.fit(X_train, y_train)"
   ]
  },
  {
   "cell_type": "code",
   "execution_count": 66,
   "id": "expired-smith",
   "metadata": {},
   "outputs": [
    {
     "name": "stdout",
     "output_type": "stream",
     "text": [
      "The MAPE for the training set is:  0.0196\n",
      "The MAPE for the validation set is:  0.0957\n",
      "The R2 score for the optmized XGBoosted model on the validation set:  0.7919511998059416\n"
     ]
    }
   ],
   "source": [
    "#now lets analyze the performance of the best model on both the training and validation sets'\n",
    "\n",
    "y_pred_train_xg=XGB_model_best.predict(X_train)\n",
    "y_pred_val_xg=XGB_model_best.predict(X_val)\n",
    "\n",
    "\n",
    "# #report the errors from each set of predictions as the mean squared error\n",
    "# mse_train=mse(y_train, y_pred_train)\n",
    "# mse_val=mse(y_val, y_pred_val)\n",
    "\n",
    "# print(\"training error using 240 estimators: \", mse_train)\n",
    "MAPE_train_xg=mean_absolute_percentage_error(y_train, y_pred_train_xg)\n",
    "MAPE_val_xg=mean_absolute_percentage_error(y_val, y_pred_val_xg)\n",
    "\n",
    "print(\"The MAPE for the training set is: \", round(MAPE_train_xg,4))\n",
    "print(\"The MAPE for the validation set is: \", round(MAPE_val_xg, 4))\n",
    "\n",
    "#report the R2 value for the optimized XGBoosted model\n",
    "R2_XGB_best=r2_score(y_val, y_pred_val_xg)\n",
    "print(\"The R2 score for the optmized XGBoosted model on the validation set: \", R2_XGB_best)"
   ]
  },
  {
   "cell_type": "markdown",
   "id": "4cb40721",
   "metadata": {},
   "source": [
    "\n",
    "# Comparison of models\n"
   ]
  },
  {
   "cell_type": "code",
   "execution_count": 67,
   "id": "differential-priority",
   "metadata": {},
   "outputs": [
    {
     "data": {
      "image/png": "[encoded data removed]",
      "text/plain": [
       "<Figure size 432x288 with 1 Axes>"
      ]
     },
     "metadata": {
      "needs_background": "light"
     },
     "output_type": "display_data"
    }
   ],
   "source": [
    "fig = plt.figure()\n",
    "ax = fig.add_axes([0,0,0.75,0.85])\n",
    "models = ['RF', 'Bag', 'XGB']\n",
    "R2 = [R2_bag_rf , R2_bag , R2_XGB_best]\n",
    "plt.ylim(0.75, 0.85)\n",
    "plt.xlabel('Model Name')\n",
    "plt.ylabel('R2 score')\n",
    "ax.bar(models,R2)\n",
    "plt.show()"
   ]
  },
  {
   "cell_type": "code",
   "execution_count": 68,
   "id": "534346c2",
   "metadata": {},
   "outputs": [
    {
     "name": "stdout",
     "output_type": "stream",
     "text": [
      "[0.10473540832997157, 0.10382403983846018, 0.09566504825975396]\n",
      "[0.039630985068852806, 0.03982451986111293, 0.019639091319433373]\n"
     ]
    },
    {
     "data": {
      "image/png": "[encoded data removed]",
      "text/plain": [
       "<Figure size 1080x576 with 1 Axes>"
      ]
     },
     "metadata": {
      "needs_background": "light"
     },
     "output_type": "display_data"
    }
   ],
   "source": [
    "barWidth = 0.25\n",
    "# fig = plt.subplots(figsize =(12, 8))\n",
    "\n",
    "models = ['RF', 'Bag', 'XGB']\n",
    "MAPE_val = [  MAPE_val_rf, MAPE_val_bag , MAPE_val_xg]\n",
    "MAPE_train = [ MAPE_train_rf, MAPE_train_bag , MAPE_train_xg]\n",
    "print(MAPE_val)\n",
    "print(MAPE_train)\n",
    "###\n",
    "\n",
    "plotdata = pd.DataFrame({\n",
    "\n",
    "    \"val\":MAPE_val,\n",
    "\n",
    "    \"train\":MAPE_train\n",
    "                            },\n",
    "\n",
    "    index=[\"RF\", \"BAG\" , \"XGB\"  ])\n",
    "plotdata.plot(kind=\"bar\",figsize=(15, 8), color = ['red' , 'blue'], grid=True)\n",
    "# bar = np.arange(3)\n",
    "# fig = plt.figure()\n",
    "# # ax = fig.add_axes([0,0,1,1])\n",
    "# plt.bar(bar + 0.00, MAPE_val, color = 'b', width = 0.25)\n",
    "# plt.bar(bar + 0.25, MAPE_train, color = 'g', width = 0.25)\n",
    "# # ax.bar(bar + 0.50, data[2], color = 'r', width = 0.25)\n",
    "# plt.ylim(0.02, 0.11)\n",
    "\n",
    "# plt.xlabel('Model Name')\n",
    "# plt.ylabel('MAPE')\n",
    "\n",
    "# colors = {'val':'blue', 'train':'green'}         \n",
    "# labels = list(colors.keys())\n",
    "# handles = [plt.Rectangle((0,0),1,1, color=colors[label]) for label in labels]\n",
    "# plt.legend(handles, labels)\n",
    "\n",
    "# plt.legend()\n",
    "plt.show()\n",
    "#####\n",
    "\n",
    "\n"
   ]
  },
  {
   "cell_type": "code",
   "execution_count": 69,
   "id": "a959ccaa",
   "metadata": {},
   "outputs": [
    {
     "data": {
      "text/plain": [
       "(1459, 219)"
      ]
     },
     "execution_count": 69,
     "metadata": {},
     "output_type": "execute_result"
    }
   ],
   "source": [
    "X_test=df_test\n",
    "X_test.shape"
   ]
  },
  {
   "cell_type": "code",
   "execution_count": 70,
   "id": "421b9920",
   "metadata": {},
   "outputs": [],
   "source": [
    "# df_test[\"LotFrontage\"].fillna(0,inplace=True)\n",
    "\n",
    "# #now check it worked\n",
    "# display(df_test.head(10))\n",
    "\n",
    "#-CHECK LATER"
   ]
  },
  {
   "cell_type": "code",
   "execution_count": 71,
   "id": "3b6cf6a5",
   "metadata": {},
   "outputs": [
    {
     "data": {
      "text/plain": [
       "True"
      ]
     },
     "execution_count": 71,
     "metadata": {},
     "output_type": "execute_result"
    }
   ],
   "source": [
    "df_test.isnull().values.any()"
   ]
  },
  {
   "cell_type": "code",
   "execution_count": 72,
   "id": "c95ea9c0",
   "metadata": {
    "scrolled": true
   },
   "outputs": [
    {
     "data": {
      "text/plain": [
       "['BsmtUnfSF']"
      ]
     },
     "execution_count": 72,
     "metadata": {},
     "output_type": "execute_result"
    }
   ],
   "source": [
    "# df_test.isna().any\n",
    "df_test.columns[df_test.isna().any()].tolist()"
   ]
  },
  {
   "cell_type": "code",
   "execution_count": 73,
   "id": "5c4da2dc",
   "metadata": {},
   "outputs": [
    {
     "data": {
      "text/html": [
       "<div>\n",
       "<style scoped>\n",
       "    .dataframe tbody tr th:only-of-type {\n",
       "        vertical-align: middle;\n",
       "    }\n",
       "\n",
       "    .dataframe tbody tr th {\n",
       "        vertical-align: top;\n",
       "    }\n",
       "\n",
       "    .dataframe thead th {\n",
       "        text-align: right;\n",
       "    }\n",
       "</style>\n",
       "<table border=\"1\" class=\"dataframe\">\n",
       "  <thead>\n",
       "    <tr style=\"text-align: right;\">\n",
       "      <th></th>\n",
       "      <th>MSSubClass</th>\n",
       "      <th>LotFrontage</th>\n",
       "      <th>LotArea</th>\n",
       "      <th>Condition1</th>\n",
       "      <th>Condition2</th>\n",
       "      <th>OverallCond</th>\n",
       "      <th>YearBuilt</th>\n",
       "      <th>YearRemodAdd</th>\n",
       "      <th>MasVnrArea</th>\n",
       "      <th>BsmtFinSF1</th>\n",
       "      <th>...</th>\n",
       "      <th>Fence_empty</th>\n",
       "      <th>MiscFeature_Othr</th>\n",
       "      <th>MiscFeature_Shed</th>\n",
       "      <th>MiscFeature_TenC</th>\n",
       "      <th>MiscFeature_empty</th>\n",
       "      <th>SaleCondition_AdjLand</th>\n",
       "      <th>SaleCondition_Alloca</th>\n",
       "      <th>SaleCondition_Family</th>\n",
       "      <th>SaleCondition_Normal</th>\n",
       "      <th>SaleCondition_Partial</th>\n",
       "    </tr>\n",
       "  </thead>\n",
       "  <tbody>\n",
       "    <tr>\n",
       "      <th>660</th>\n",
       "      <td>20</td>\n",
       "      <td>99.0</td>\n",
       "      <td>5940</td>\n",
       "      <td>1</td>\n",
       "      <td>0</td>\n",
       "      <td>7</td>\n",
       "      <td>1946</td>\n",
       "      <td>1950</td>\n",
       "      <td>0.0</td>\n",
       "      <td>0.0</td>\n",
       "      <td>...</td>\n",
       "      <td>0</td>\n",
       "      <td>0</td>\n",
       "      <td>0</td>\n",
       "      <td>0</td>\n",
       "      <td>1</td>\n",
       "      <td>0</td>\n",
       "      <td>0</td>\n",
       "      <td>0</td>\n",
       "      <td>0</td>\n",
       "      <td>0</td>\n",
       "    </tr>\n",
       "  </tbody>\n",
       "</table>\n",
       "<p>1 rows × 219 columns</p>\n",
       "</div>"
      ],
      "text/plain": [
       "     MSSubClass  LotFrontage  LotArea  Condition1  Condition2  OverallCond  \\\n",
       "660          20         99.0     5940           1           0            7   \n",
       "\n",
       "     YearBuilt  YearRemodAdd  MasVnrArea  BsmtFinSF1  ...  Fence_empty  \\\n",
       "660       1946          1950         0.0         0.0  ...            0   \n",
       "\n",
       "     MiscFeature_Othr  MiscFeature_Shed  MiscFeature_TenC  MiscFeature_empty  \\\n",
       "660                 0                 0                 0                  1   \n",
       "\n",
       "     SaleCondition_AdjLand  SaleCondition_Alloca  SaleCondition_Family  \\\n",
       "660                      0                     0                     0   \n",
       "\n",
       "     SaleCondition_Normal  SaleCondition_Partial  \n",
       "660                     0                      0  \n",
       "\n",
       "[1 rows x 219 columns]"
      ]
     },
     "execution_count": 73,
     "metadata": {},
     "output_type": "execute_result"
    }
   ],
   "source": [
    "nans = X_test[X_test.isna().any(axis=1)]\n",
    "nans"
   ]
  },
  {
   "cell_type": "code",
   "execution_count": 74,
   "id": "6f5c7d8f",
   "metadata": {},
   "outputs": [
    {
     "name": "stderr",
     "output_type": "stream",
     "text": [
      "C:\\Users\\atondro\\AppData\\Roaming\\Python\\Python37\\site-packages\\pandas\\core\\generic.py:6392: SettingWithCopyWarning: \n",
      "A value is trying to be set on a copy of a slice from a DataFrame\n",
      "\n",
      "See the caveats in the documentation: https://pandas.pydata.org/pandas-docs/stable/user_guide/indexing.html#returning-a-view-versus-a-copy\n",
      "  return self._update_inplace(result)\n"
     ]
    }
   ],
   "source": [
    " df_test[\"BsmtUnfSF\"].fillna(0,inplace=True)"
   ]
  },
  {
   "cell_type": "code",
   "execution_count": 75,
   "id": "2e2f2b33",
   "metadata": {},
   "outputs": [],
   "source": [
    "#df_test.dropna(subset = [\"BsmtUnfSF\"], inplace=True)"
   ]
  },
  {
   "cell_type": "code",
   "execution_count": 76,
   "id": "1fc00f0d",
   "metadata": {},
   "outputs": [
    {
     "data": {
      "text/plain": [
       "False"
      ]
     },
     "execution_count": 76,
     "metadata": {},
     "output_type": "execute_result"
    }
   ],
   "source": [
    "df_test.isnull().values.any()\n",
    "#now we make sure that there is no NaNs in the test set"
   ]
  },
  {
   "cell_type": "code",
   "execution_count": 77,
   "id": "3a8a6f55",
   "metadata": {},
   "outputs": [
    {
     "data": {
      "text/plain": [
       "(1459, 219)"
      ]
     },
     "execution_count": 77,
     "metadata": {},
     "output_type": "execute_result"
    }
   ],
   "source": [
    "df_test.shape"
   ]
  },
  {
   "cell_type": "code",
   "execution_count": 78,
   "id": "9b9ca291",
   "metadata": {},
   "outputs": [],
   "source": [
    "submission = X_test\n",
    "submission.to_csv('submission.csv', index=False)"
   ]
  },
  {
   "cell_type": "code",
   "execution_count": 79,
   "id": "14c319df",
   "metadata": {},
   "outputs": [
    {
     "data": {
      "text/plain": [
       "(1459, 219)"
      ]
     },
     "execution_count": 79,
     "metadata": {},
     "output_type": "execute_result"
    }
   ],
   "source": [
    "X_test=df_test\n",
    "X_test.shape"
   ]
  },
  {
   "cell_type": "code",
   "execution_count": 80,
   "id": "b89134a7-8585-4f00-ad52-48de80a4b45a",
   "metadata": {},
   "outputs": [
    {
     "name": "stdout",
     "output_type": "stream",
     "text": [
      "Finally done!\n",
      "Finally done!\n"
     ]
    }
   ],
   "source": [
    "print(\"Finally done!\")\n",
    "print(\"Finally done!\")"
   ]
  },
  {
   "cell_type": "code",
   "execution_count": 81,
   "id": "325429b2",
   "metadata": {},
   "outputs": [],
   "source": [
    "y_pred_test_bag=bagReg.predict(X_test)"
   ]
  },
  {
   "cell_type": "code",
   "execution_count": 82,
   "id": "a6796f59",
   "metadata": {},
   "outputs": [],
   "source": [
    "pd.DataFrame(y_pred_test_bag).to_csv(\"Bagging.csv\")"
   ]
  },
  {
   "cell_type": "code",
   "execution_count": 83,
   "id": "84f5927e",
   "metadata": {},
   "outputs": [],
   "source": [
    "y_pred_test_rf=best_grid.predict(X_test)\n",
    "y_pred_test_xg=XGB_model_best.predict(X_test)"
   ]
  },
  {
   "cell_type": "code",
   "execution_count": 84,
   "id": "8bf7974a",
   "metadata": {},
   "outputs": [],
   "source": [
    "pd.DataFrame(y_pred_test_rf).to_csv(\"RF.csv\")\n",
    "pd.DataFrame(y_pred_test_xg).to_csv(\"XGB.csv\")"
   ]
  }
 ],
 "metadata": {
  "kernelspec": {
   "display_name": "Python 3 (ipykernel)",
   "language": "python",
   "name": "python3"
  },
  "language_info": {
   "codemirror_mode": {
    "name": "ipython",
    "version": 3
   },
   "file_extension": ".py",
   "mimetype": "text/x-python",
   "name": "python",
   "nbconvert_exporter": "python",
   "pygments_lexer": "ipython3",
   "version": "3.7.8"
  }
 },
 "nbformat": 4,
 "nbformat_minor": 5
}
